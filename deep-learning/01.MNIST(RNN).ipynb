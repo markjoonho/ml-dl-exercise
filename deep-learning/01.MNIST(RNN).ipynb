{
 "cells": [
  {
   "cell_type": "code",
   "execution_count": 3,
   "id": "5187b8e1",
   "metadata": {},
   "outputs": [],
   "source": [
    "# mnist data error fix by google search \n",
    "import requests\n",
    "requests.packages.urllib3.disable_warnings()\n",
    "import ssl\n",
    "\n",
    "try:\n",
    "    _create_unverified_https_context = ssl._create_unverified_context\n",
    "except AttributeError:\n",
    "    # Legacy Python that doesn't verify HTTPS certificates by default\n",
    "    pass\n",
    "else:\n",
    "    # Handle target environment that doesn't support HTTPS verification\n",
    "    ssl._create_default_https_context = _create_unverified_https_context"
   ]
  },
  {
   "cell_type": "code",
   "execution_count": 4,
   "id": "911ececd",
   "metadata": {},
   "outputs": [],
   "source": [
    "import tensorflow as tf # version 2.4.1\n",
    "from tensorflow import keras\n",
    "from tensorflow.keras.layers import Dense\n",
    "from tensorflow.keras.models import Sequential\n",
    "\n",
    "import pandas as pd\n",
    "import numpy as np\n",
    "import matplotlib.pyplot as plt\n",
    "import seaborn as sns\n",
    "\n",
    "from IPython.display import Image\n",
    "\n",
    "import warnings\n",
    "warnings.filterwarnings(\"ignore\")\n",
    "\n",
    "seed = 42"
   ]
  },
  {
   "cell_type": "code",
   "execution_count": 5,
   "id": "1dc28b2f",
   "metadata": {},
   "outputs": [],
   "source": [
    "mnist = tf.keras.datasets.mnist\n",
    "((train_images, train_labels), (test_images, test_labels)) = mnist.load_data()"
   ]
  },
  {
   "cell_type": "code",
   "execution_count": 6,
   "id": "151ee526",
   "metadata": {},
   "outputs": [
    {
     "name": "stdout",
     "output_type": "stream",
     "text": [
      "train images: (60000, 28, 28)\n",
      "train labels: (60000,)\n",
      "test images: (10000, 28, 28)\n",
      "test labels: (10000,)\n"
     ]
    }
   ],
   "source": [
    "print(f\"train images: {train_images.shape}\\ntrain labels: {train_labels.shape}\")\n",
    "print(f\"test images: {test_images.shape}\\ntest labels: {test_labels.shape}\")"
   ]
  },
  {
   "cell_type": "code",
   "execution_count": 28,
   "id": "6fcb80b5",
   "metadata": {},
   "outputs": [
    {
     "name": "stdout",
     "output_type": "stream",
     "text": [
      "first image: 5\n"
     ]
    },
    {
     "data": {
      "image/png": "[encoded data removed]",
      "text/plain": [
       "<Figure size 432x288 with 2 Axes>"
      ]
     },
     "metadata": {
      "needs_background": "light"
     },
     "output_type": "display_data"
    }
   ],
   "source": [
    "print(f\"first image: {train_labels[0]}\")\n",
    "\n",
    "plt.imshow(train_images[0])\n",
    "plt.colorbar()\n",
    "plt.show()"
   ]
  },
  {
   "cell_type": "markdown",
   "id": "ef0bd162",
   "metadata": {},
   "source": [
    "### Data Preprocessing\n",
    "##### Check dtype, min/max"
   ]
  },
  {
   "cell_type": "code",
   "execution_count": 8,
   "id": "297920af",
   "metadata": {},
   "outputs": [
    {
     "name": "stdout",
     "output_type": "stream",
     "text": [
      "0 255\n",
      "0 255\n"
     ]
    }
   ],
   "source": [
    "# get images min max value\n",
    "print(min(train_images.reshape(-1)), max(train_images.reshape(-1)))\n",
    "print(min(test_images.reshape(-1)), max(test_images.reshape(-1)))"
   ]
  },
  {
   "cell_type": "code",
   "execution_count": 9,
   "id": "5ad4edd5",
   "metadata": {},
   "outputs": [
    {
     "name": "stdout",
     "output_type": "stream",
     "text": [
      "0 9\n",
      "0 9\n"
     ]
    }
   ],
   "source": [
    "# get labels' min max value\n",
    "print(min(train_labels.reshape(-1)), max(train_labels.reshape(-1)))\n",
    "print(min(test_labels.reshape(-1)), max(test_labels.reshape(-1)))"
   ]
  },
  {
   "cell_type": "code",
   "execution_count": 10,
   "id": "46a70bf6",
   "metadata": {},
   "outputs": [
    {
     "data": {
      "text/plain": [
       "dtype('uint8')"
      ]
     },
     "execution_count": 10,
     "metadata": {},
     "output_type": "execute_result"
    }
   ],
   "source": [
    "# check data types of train/test data\n",
    "train_images.dtype"
   ]
  },
  {
   "cell_type": "code",
   "execution_count": 11,
   "id": "8e490741",
   "metadata": {},
   "outputs": [],
   "source": [
    "# change int to float\n",
    "train_images = train_images.astype(np.float64)\n",
    "test_images = test_images.astype(np.float64)"
   ]
  },
  {
   "cell_type": "code",
   "execution_count": 12,
   "id": "acd253a6",
   "metadata": {},
   "outputs": [
    {
     "name": "stdout",
     "output_type": "stream",
     "text": [
      "float64 float64\n"
     ]
    }
   ],
   "source": [
    "print(train_images.dtype, test_images.dtype)"
   ]
  },
  {
   "cell_type": "markdown",
   "id": "820fd8e8",
   "metadata": {},
   "source": [
    "##### Normalizing\n",
    "$$normalize(x) =  \\frac{x - min}{max - min}$$\n",
    "\n",
    "- our min is 0, so divide it by 255 is fine for this data set"
   ]
  },
  {
   "cell_type": "code",
   "execution_count": 13,
   "id": "39399344",
   "metadata": {},
   "outputs": [],
   "source": [
    "# normalizing the data.\n",
    "train_images /= 255\n",
    "test_images /= 255"
   ]
  },
  {
   "cell_type": "code",
   "execution_count": 14,
   "id": "b7141981",
   "metadata": {},
   "outputs": [
    {
     "name": "stdout",
     "output_type": "stream",
     "text": [
      "0.0 1.0\n",
      "0.0 1.0\n"
     ]
    }
   ],
   "source": [
    "# get normalized images min max value\n",
    "print(min(train_images.reshape(-1)), max(train_images.reshape(-1)))\n",
    "print(min(test_images.reshape(-1)), max(test_images.reshape(-1)))"
   ]
  },
  {
   "cell_type": "code",
   "execution_count": 15,
   "id": "48350d02",
   "metadata": {},
   "outputs": [
    {
     "data": {
      "text/plain": [
       "dtype('float64')"
      ]
     },
     "execution_count": 15,
     "metadata": {},
     "output_type": "execute_result"
    }
   ],
   "source": [
    "# check normalized data types of train/test data\n",
    "train_images.dtype"
   ]
  },
  {
   "cell_type": "markdown",
   "id": "1ad39b6f",
   "metadata": {},
   "source": [
    "### Visualization"
   ]
  },
  {
   "cell_type": "code",
   "execution_count": 24,
   "id": "b6419869",
   "metadata": {},
   "outputs": [
    {
     "data": {
      "text/plain": [
       "(10, 28, 28)"
      ]
     },
     "execution_count": 24,
     "metadata": {},
     "output_type": "execute_result"
    }
   ],
   "source": [
    "train_images[0:10].shape"
   ]
  },
  {
   "cell_type": "code",
   "execution_count": 17,
   "id": "916c6686",
   "metadata": {},
   "outputs": [
    {
     "data": {
      "image/png": "[encoded data removed]",
      "text/plain": [
       "<Figure size 432x288 with 1 Axes>"
      ]
     },
     "metadata": {
      "needs_background": "light"
     },
     "output_type": "display_data"
    }
   ],
   "source": [
    "plt.imshow(np.hstack(train_images[:10]))\n",
    "plt.show()"
   ]
  },
  {
   "cell_type": "code",
   "execution_count": 25,
   "id": "7026641e",
   "metadata": {},
   "outputs": [
    {
     "data": {
      "text/plain": [
       "array([[0., 0., 0., ..., 0., 0., 0.],\n",
       "       [0., 0., 0., ..., 0., 0., 0.],\n",
       "       [0., 0., 0., ..., 0., 0., 0.],\n",
       "       ...,\n",
       "       [0., 0., 0., ..., 0., 0., 0.],\n",
       "       [0., 0., 0., ..., 0., 0., 0.],\n",
       "       [0., 0., 0., ..., 0., 0., 0.]])"
      ]
     },
     "execution_count": 25,
     "metadata": {},
     "output_type": "execute_result"
    }
   ],
   "source": [
    "train_images[:10].transpose((1,0,2)).reshape(28,-1)"
   ]
  },
  {
   "cell_type": "code",
   "execution_count": 29,
   "id": "9992a9a3",
   "metadata": {},
   "outputs": [
    {
     "data": {
      "image/png": "[encoded data removed]",
      "text/plain": [
       "<Figure size 432x288 with 1 Axes>"
      ]
     },
     "metadata": {
      "needs_background": "light"
     },
     "output_type": "display_data"
    },
    {
     "name": "stdout",
     "output_type": "stream",
     "text": [
      "[5 0 4 1 9 2 1 3 1 4]\n"
     ]
    }
   ],
   "source": [
    "plt.imshow(train_images[:10].transpose((1,0,2)).reshape(28,-1))\n",
    "plt.show()\n",
    "print(train_labels[:10])"
   ]
  },
  {
   "cell_type": "markdown",
   "id": "d6c4a1a2",
   "metadata": {},
   "source": [
    "##### Visualization as Dark"
   ]
  },
  {
   "cell_type": "code",
   "execution_count": 31,
   "id": "4651ba15",
   "metadata": {},
   "outputs": [
    {
     "data": {
      "image/png": "[encoded data removed]",
      "text/plain": [
       "<Figure size 432x288 with 2 Axes>"
      ]
     },
     "metadata": {
      "needs_background": "light"
     },
     "output_type": "display_data"
    },
    {
     "name": "stdout",
     "output_type": "stream",
     "text": [
      "[5 0 4 1 9 2 1 3 1 4]\n"
     ]
    }
   ],
   "source": [
    "plt.imshow(train_images[:10].transpose((1,0,2)).reshape(28,-1), cmap='gray')\n",
    "plt.colorbar()\n",
    "plt.show()\n",
    "print(train_labels[:10])"
   ]
  },
  {
   "cell_type": "markdown",
   "id": "b04703f6",
   "metadata": {},
   "source": [
    "### Data Augmentation"
   ]
  },
  {
   "cell_type": "code",
   "execution_count": 32,
   "id": "35331ae6",
   "metadata": {},
   "outputs": [
    {
     "name": "stdout",
     "output_type": "stream",
     "text": [
      "0.04046668323227831\n",
      "0.6496419313366493\n",
      "0.2216370560556119\n"
     ]
    }
   ],
   "source": [
    "for _ in range(3):\n",
    "    print(np.random.random())"
   ]
  },
  {
   "cell_type": "code",
   "execution_count": 37,
   "id": "ca8c9386",
   "metadata": {},
   "outputs": [
    {
     "data": {
      "image/png": "[encoded data removed]",
      "text/plain": [
       "<Figure size 432x288 with 2 Axes>"
      ]
     },
     "metadata": {
      "needs_background": "light"
     },
     "output_type": "display_data"
    }
   ],
   "source": [
    "plt.imshow(np.random.random((28,28)), cmap='gray')\n",
    "plt.colorbar()\n",
    "plt.show()"
   ]
  },
  {
   "cell_type": "code",
   "execution_count": 41,
   "id": "726f0fb5",
   "metadata": {},
   "outputs": [
    {
     "name": "stdout",
     "output_type": "stream",
     "text": [
      "0.035859855146192075\n",
      "-0.1042526858396148\n",
      "-0.07112520101907374\n"
     ]
    }
   ],
   "source": [
    "# gaussian\n",
    "for _ in range(3):\n",
    "    print(np.random.normal(loc=0.0, scale=0.1)) # avg = 0.0 standard_deviation = 0.1"
   ]
  },
  {
   "cell_type": "code",
   "execution_count": 46,
   "id": "8a9312b5",
   "metadata": {},
   "outputs": [
    {
     "data": {
      "image/png": "[encoded data removed]",
      "text/plain": [
       "<Figure size 432x288 with 2 Axes>"
      ]
     },
     "metadata": {
      "needs_background": "light"
     },
     "output_type": "display_data"
    }
   ],
   "source": [
    "plt.imshow(np.random.normal(loc=0.0, scale=0.01, size=(28,28)), cmap = 'gray')\n",
    "plt.colorbar()\n",
    "plt.show()"
   ]
  },
  {
   "cell_type": "code",
   "execution_count": 64,
   "id": "f96588b8",
   "metadata": {},
   "outputs": [],
   "source": [
    "# add noisy\n",
    "noisy_image = train_images[5] + np.random.normal(loc=0.5, scale=0.1, size=(28,28))"
   ]
  },
  {
   "cell_type": "code",
   "execution_count": 65,
   "id": "1814bead",
   "metadata": {},
   "outputs": [
    {
     "data": {
      "image/png": "[encoded data removed]",
      "text/plain": [
       "<Figure size 432x288 with 2 Axes>"
      ]
     },
     "metadata": {
      "needs_background": "light"
     },
     "output_type": "display_data"
    }
   ],
   "source": [
    "plt.imshow(noisy_image, cmap='gray')\n",
    "plt.colorbar()\n",
    "plt.show()"
   ]
  },
  {
   "cell_type": "code",
   "execution_count": 67,
   "id": "e7722e35",
   "metadata": {},
   "outputs": [],
   "source": [
    "noisy_image[noisy_image > 1.0] = 1.0"
   ]
  },
  {
   "cell_type": "code",
   "execution_count": 68,
   "id": "08cf33f9",
   "metadata": {},
   "outputs": [
    {
     "data": {
      "image/png": "[encoded data removed]",
      "text/plain": [
       "<Figure size 432x288 with 2 Axes>"
      ]
     },
     "metadata": {
      "needs_background": "light"
     },
     "output_type": "display_data"
    }
   ],
   "source": [
    "plt.imshow(noisy_image, cmap='gray')\n",
    "plt.colorbar()\n",
    "plt.show()"
   ]
  },
  {
   "cell_type": "code",
   "execution_count": 70,
   "id": "67b934cb",
   "metadata": {},
   "outputs": [],
   "source": [
    "# add noisy to total, normalized\n",
    "train_noisy_images = train_images + np.random.normal(loc=0.5, scale=0.1, size=train_images.shape)\n",
    "test_noisy_images = test_images + np.random.normal(loc=0.5, scale=0.1, size=test_images.shape)\n",
    "\n",
    "train_noisy_images[train_noisy_images > 1.0] = 1.0\n",
    "test_noisy_images[test_noisy_images > 1.0] = 1.0"
   ]
  },
  {
   "cell_type": "code",
   "execution_count": 73,
   "id": "30ef111b",
   "metadata": {},
   "outputs": [
    {
     "data": {
      "image/png": "[encoded data removed]",
      "text/plain": [
       "<Figure size 432x288 with 2 Axes>"
      ]
     },
     "metadata": {
      "needs_background": "light"
     },
     "output_type": "display_data"
    },
    {
     "name": "stdout",
     "output_type": "stream",
     "text": [
      "[5 0 4 1 9 2 1 3 1 4]\n"
     ]
    }
   ],
   "source": [
    "plt.imshow(train_noisy_images[:10].transpose((1,0,2)).reshape(28,-1), cmap='gray')\n",
    "plt.colorbar()\n",
    "plt.show()\n",
    "print(train_labels[:10])"
   ]
  },
  {
   "cell_type": "code",
   "execution_count": 80,
   "id": "7cda3ecb",
   "metadata": {},
   "outputs": [],
   "source": [
    "# one-hot-encoing to labels\n",
    "from keras.utils import to_categorical\n",
    "train_labels = to_categorical(train_labels, 10)\n",
    "test_labels = to_categorical(test_labels, 10)"
   ]
  },
  {
   "cell_type": "code",
   "execution_count": 83,
   "id": "4d5f2ddb",
   "metadata": {},
   "outputs": [
    {
     "data": {
      "text/plain": [
       "(10000, 10)"
      ]
     },
     "execution_count": 83,
     "metadata": {},
     "output_type": "execute_result"
    }
   ],
   "source": [
    "test_labels.shape"
   ]
  },
  {
   "cell_type": "markdown",
   "id": "8fec7f37",
   "metadata": {},
   "source": [
    "### Modeling"
   ]
  },
  {
   "cell_type": "code",
   "execution_count": 96,
   "id": "2788d291",
   "metadata": {},
   "outputs": [],
   "source": [
    "from tensorflow.keras.layers import SimpleRNN\n",
    "from tensorflow.keras.layers import Dense, Input\n",
    "from tensorflow.keras.models import Model"
   ]
  },
  {
   "cell_type": "code",
   "execution_count": 97,
   "id": "fd0629e9",
   "metadata": {},
   "outputs": [],
   "source": [
    "inputs = Input(shape=(28,28))\n",
    "x1 = SimpleRNN(units=64, activation=\"tanh\")(inputs)\n",
    "x2 = Dense(units=10, activation=\"softmax\")(x1)\n",
    "model = Model(inputs=inputs, outputs=x2)"
   ]
  },
  {
   "cell_type": "code",
   "execution_count": 98,
   "id": "bc2a57d6",
   "metadata": {},
   "outputs": [
    {
     "name": "stdout",
     "output_type": "stream",
     "text": [
      "Model: \"model_2\"\n",
      "_________________________________________________________________\n",
      "Layer (type)                 Output Shape              Param #   \n",
      "=================================================================\n",
      "input_6 (InputLayer)         [(None, 28, 28)]          0         \n",
      "_________________________________________________________________\n",
      "simple_rnn_4 (SimpleRNN)     (None, 64)                5952      \n",
      "_________________________________________________________________\n",
      "dense_3 (Dense)              (None, 10)                650       \n",
      "=================================================================\n",
      "Total params: 6,602\n",
      "Trainable params: 6,602\n",
      "Non-trainable params: 0\n",
      "_________________________________________________________________\n"
     ]
    }
   ],
   "source": [
    "model.summary()"
   ]
  },
  {
   "cell_type": "code",
   "execution_count": 99,
   "id": "cab4c662",
   "metadata": {},
   "outputs": [],
   "source": [
    "model.compile(loss='categorical_crossentropy', optimizer='adam', metrics=['accuracy'])"
   ]
  },
  {
   "cell_type": "code",
   "execution_count": 100,
   "id": "779b2c01",
   "metadata": {},
   "outputs": [
    {
     "name": "stdout",
     "output_type": "stream",
     "text": [
      "Epoch 1/5\n",
      "1875/1875 - 7s - loss: 0.6805 - accuracy: 0.7770 - val_loss: 0.4281 - val_accuracy: 0.8741\n",
      "Epoch 2/5\n",
      "1875/1875 - 6s - loss: 0.3763 - accuracy: 0.8867 - val_loss: 0.2996 - val_accuracy: 0.9091\n",
      "Epoch 3/5\n",
      "1875/1875 - 6s - loss: 0.3026 - accuracy: 0.9114 - val_loss: 0.2368 - val_accuracy: 0.9282\n",
      "Epoch 4/5\n",
      "1875/1875 - 6s - loss: 0.2707 - accuracy: 0.9199 - val_loss: 0.2179 - val_accuracy: 0.9353\n",
      "Epoch 5/5\n",
      "1875/1875 - 6s - loss: 0.2510 - accuracy: 0.9264 - val_loss: 0.2245 - val_accuracy: 0.9358\n"
     ]
    }
   ],
   "source": [
    "hist = model.fit(x=train_noisy_images, y=train_labels, validation_data=(test_noisy_images, test_labels), epochs=5, verbose=2)"
   ]
  },
  {
   "cell_type": "code",
   "execution_count": 105,
   "id": "583ae3bc",
   "metadata": {},
   "outputs": [
    {
     "data": {
      "image/png": "[encoded data removed]",
      "text/plain": [
       "<Figure size 432x288 with 1 Axes>"
      ]
     },
     "metadata": {
      "needs_background": "light"
     },
     "output_type": "display_data"
    }
   ],
   "source": [
    "plt.plot(hist.history['accuracy'], label='accuracy')\n",
    "plt.plot(hist.history['loss'], label='loss')\n",
    "plt.plot(hist.history['val_loss'], label='val_loss')\n",
    "plt.plot(hist.history['val_accuracy'], label='val_accuracy')\n",
    "plt.legend(loc='upper left')\n",
    "plt.show()"
   ]
  },
  {
   "cell_type": "markdown",
   "id": "305c4bad",
   "metadata": {},
   "source": [
    "### Check Result"
   ]
  },
  {
   "cell_type": "code",
   "execution_count": 119,
   "id": "8ba0d319",
   "metadata": {},
   "outputs": [
    {
     "data": {
      "text/plain": [
       "array([[2.6132697e-05, 2.6024809e-05, 6.0160684e-05, 1.0804295e-03,\n",
       "        9.2121400e-07, 4.4215725e-05, 5.4156434e-08, 9.9693108e-01,\n",
       "        3.4197171e-06, 1.8276433e-03]], dtype=float32)"
      ]
     },
     "execution_count": 119,
     "metadata": {},
     "output_type": "execute_result"
    }
   ],
   "source": [
    "res = model.predict(test_noisy_images[0:1])\n",
    "res"
   ]
  },
  {
   "cell_type": "code",
   "execution_count": 118,
   "id": "53b35061",
   "metadata": {},
   "outputs": [
    {
     "data": {
      "image/png": "[encoded data removed]",
      "text/plain": [
       "<Figure size 432x288 with 1 Axes>"
      ]
     },
     "metadata": {
      "needs_background": "light"
     },
     "output_type": "display_data"
    }
   ],
   "source": [
    "plt.imshow(np.concatenate([test_noisy_images[0], test_images[0]], axis=1), cmap='gray')\n",
    "plt.show()"
   ]
  },
  {
   "cell_type": "code",
   "execution_count": 137,
   "id": "cd07cbe0",
   "metadata": {},
   "outputs": [
    {
     "data": {
      "image/png": "[encoded data removed]",
      "text/plain": [
       "<Figure size 432x288 with 1 Axes>"
      ]
     },
     "metadata": {
      "needs_background": "light"
     },
     "output_type": "display_data"
    }
   ],
   "source": [
    "plt.bar(np.array(range(10))-0.2, res[0], color='red', width=0.4)\n",
    "plt.bar(np.array(range(10))+0.2, test_labels[0],width=0.4)\n",
    "plt.xticks(range(10))\n",
    "plt.show()"
   ]
  },
  {
   "cell_type": "markdown",
   "id": "0094d824",
   "metadata": {},
   "source": [
    "### Model Save and Load, Download"
   ]
  },
  {
   "cell_type": "code",
   "execution_count": 141,
   "id": "ed767ca1",
   "metadata": {},
   "outputs": [
    {
     "name": "stdout",
     "output_type": "stream",
     "text": [
      "INFO:tensorflow:Assets written to: ./01.models/assets\n"
     ]
    }
   ],
   "source": [
    "# save\n",
    "model.save(filepath='./01.models')"
   ]
  },
  {
   "cell_type": "code",
   "execution_count": 144,
   "id": "0aa0a31d",
   "metadata": {},
   "outputs": [],
   "source": [
    "# load\n",
    "new_model = tf.keras.models.load_model(filepath='./01.models')"
   ]
  },
  {
   "cell_type": "code",
   "execution_count": 145,
   "id": "186aa432",
   "metadata": {},
   "outputs": [
    {
     "data": {
      "text/plain": [
       "array([[2.6132697e-05, 2.6024809e-05, 6.0160684e-05, 1.0804295e-03,\n",
       "        9.2121400e-07, 4.4215725e-05, 5.4156434e-08, 9.9693108e-01,\n",
       "        3.4197171e-06, 1.8276433e-03]], dtype=float32)"
      ]
     },
     "execution_count": 145,
     "metadata": {},
     "output_type": "execute_result"
    }
   ],
   "source": [
    "res = new_model.predict(test_noisy_images[0:1])\n",
    "res"
   ]
  },
  {
   "cell_type": "code",
   "execution_count": 146,
   "id": "346098c6",
   "metadata": {},
   "outputs": [
    {
     "name": "stdout",
     "output_type": "stream",
     "text": [
      "313/313 - 1s - loss: 0.2245 - accuracy: 0.9358\n",
      "0.22454416751861572 0.9358000159263611\n"
     ]
    }
   ],
   "source": [
    "loss, acc = new_model.evaluate(test_noisy_images, test_labels, verbose=2)\n",
    "print(loss, acc)"
   ]
  },
  {
   "cell_type": "code",
   "execution_count": 147,
   "id": "1ef9442c",
   "metadata": {},
   "outputs": [
    {
     "name": "stdout",
     "output_type": "stream",
     "text": [
      "313/313 - 0s - loss: 0.2245 - accuracy: 0.9358\n",
      "0.22454416751861572 0.9358000159263611\n"
     ]
    }
   ],
   "source": [
    "loss, acc = model.evaluate(test_noisy_images, test_labels, verbose=2)\n",
    "print(loss, acc)"
   ]
  },
  {
   "cell_type": "code",
   "execution_count": null,
   "id": "e0fa7f5c",
   "metadata": {},
   "outputs": [],
   "source": []
  }
 ],
 "metadata": {
  "kernelspec": {
   "display_name": "Python 3",
   "language": "python",
   "name": "python3"
  },
  "language_info": {
   "codemirror_mode": {
    "name": "ipython",
    "version": 3
   },
   "file_extension": ".py",
   "mimetype": "text/x-python",
   "name": "python",
   "nbconvert_exporter": "python",
   "pygments_lexer": "ipython3",
   "version": "3.7.9"
  }
 },
 "nbformat": 4,
 "nbformat_minor": 5
}
