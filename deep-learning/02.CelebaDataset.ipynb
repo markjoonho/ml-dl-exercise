{
 "cells": [
  {
   "cell_type": "code",
   "execution_count": 1,
   "id": "f0de4b57",
   "metadata": {},
   "outputs": [],
   "source": [
    "# data loading error fix by google search\n",
    "import requests\n",
    "requests.packages.urllib3.disable_warnings()\n",
    "import ssl\n",
    "\n",
    "try:\n",
    "    _create_unverified_https_context = ssl._create_unverified_context\n",
    "except AttributeError:\n",
    "    # Legacy Python that doesn't verify HTTPS certificates by default\n",
    "    pass\n",
    "else:\n",
    "    # Handle target environment that doesn't support HTTPS verification\n",
    "    ssl._create_default_https_context = _create_unverified_https_context"
   ]
  },
  {
   "cell_type": "code",
   "execution_count": 2,
   "id": "86ca8598",
   "metadata": {},
   "outputs": [],
   "source": [
    "import tensorflow as tf\n",
    "from tensorflow import keras\n",
    "from tensorflow.keras.layers import Dense\n",
    "from tensorflow.keras.models import Sequential\n",
    "\n",
    "import pandas as pd\n",
    "import numpy as np\n",
    "import matplotlib.pyplot as plt\n",
    "import seaborn as sns\n",
    "import warnings \n",
    "from IPython.display import Image\n",
    "\n",
    "warnings.filterwarnings('ignore')\n",
    "%matplotlib inline\n",
    "\n",
    "SEED = 34"
   ]
  },
  {
   "cell_type": "code",
   "execution_count": 3,
   "id": "34b451d4",
   "metadata": {},
   "outputs": [],
   "source": [
    "import tensorflow_datasets as tfds"
   ]
  },
  {
   "cell_type": "code",
   "execution_count": 4,
   "id": "e5cbe6c2",
   "metadata": {},
   "outputs": [
    {
     "data": {
      "text/plain": [
       "['abstract_reasoning',\n",
       " 'accentdb',\n",
       " 'aeslc',\n",
       " 'aflw2k3d',\n",
       " 'ag_news_subset',\n",
       " 'ai2_arc',\n",
       " 'ai2_arc_with_ir',\n",
       " 'amazon_us_reviews',\n",
       " 'anli',\n",
       " 'arc',\n",
       " 'bair_robot_pushing_small',\n",
       " 'bccd',\n",
       " 'beans',\n",
       " 'big_patent',\n",
       " 'bigearthnet',\n",
       " 'billsum',\n",
       " 'binarized_mnist',\n",
       " 'binary_alpha_digits',\n",
       " 'blimp',\n",
       " 'bool_q',\n",
       " 'c4',\n",
       " 'caltech101',\n",
       " 'caltech_birds2010',\n",
       " 'caltech_birds2011',\n",
       " 'cars196',\n",
       " 'cassava',\n",
       " 'cats_vs_dogs',\n",
       " 'celeb_a',\n",
       " 'celeb_a_hq',\n",
       " 'cfq',\n",
       " 'cherry_blossoms',\n",
       " 'chexpert',\n",
       " 'cifar10',\n",
       " 'cifar100',\n",
       " 'cifar10_1',\n",
       " 'cifar10_corrupted',\n",
       " 'citrus_leaves',\n",
       " 'cityscapes',\n",
       " 'civil_comments',\n",
       " 'clevr',\n",
       " 'clic',\n",
       " 'clinc_oos',\n",
       " 'cmaterdb',\n",
       " 'cnn_dailymail',\n",
       " 'coco',\n",
       " 'coco_captions',\n",
       " 'coil100',\n",
       " 'colorectal_histology',\n",
       " 'colorectal_histology_large',\n",
       " 'common_voice',\n",
       " 'coqa',\n",
       " 'cos_e',\n",
       " 'cosmos_qa',\n",
       " 'covid19sum',\n",
       " 'crema_d',\n",
       " 'curated_breast_imaging_ddsm',\n",
       " 'cycle_gan',\n",
       " 'd4rl_mujoco_ant',\n",
       " 'd4rl_mujoco_halfcheetah',\n",
       " 'dart',\n",
       " 'davis',\n",
       " 'deep_weeds',\n",
       " 'definite_pronoun_resolution',\n",
       " 'dementiabank',\n",
       " 'diabetic_retinopathy_detection',\n",
       " 'div2k',\n",
       " 'dmlab',\n",
       " 'dolphin_number_word',\n",
       " 'downsampled_imagenet',\n",
       " 'drop',\n",
       " 'dsprites',\n",
       " 'dtd',\n",
       " 'duke_ultrasound',\n",
       " 'e2e_cleaned',\n",
       " 'efron_morris75',\n",
       " 'emnist',\n",
       " 'eraser_multi_rc',\n",
       " 'esnli',\n",
       " 'eurosat',\n",
       " 'fashion_mnist',\n",
       " 'flic',\n",
       " 'flores',\n",
       " 'food101',\n",
       " 'forest_fires',\n",
       " 'fuss',\n",
       " 'gap',\n",
       " 'geirhos_conflict_stimuli',\n",
       " 'gem',\n",
       " 'genomics_ood',\n",
       " 'german_credit_numeric',\n",
       " 'gigaword',\n",
       " 'glue',\n",
       " 'goemotions',\n",
       " 'gpt3',\n",
       " 'gref',\n",
       " 'groove',\n",
       " 'gtzan',\n",
       " 'gtzan_music_speech',\n",
       " 'hellaswag',\n",
       " 'higgs',\n",
       " 'horses_or_humans',\n",
       " 'howell',\n",
       " 'i_naturalist2017',\n",
       " 'imagenet2012',\n",
       " 'imagenet2012_corrupted',\n",
       " 'imagenet2012_real',\n",
       " 'imagenet2012_subset',\n",
       " 'imagenet_a',\n",
       " 'imagenet_r',\n",
       " 'imagenet_resized',\n",
       " 'imagenet_v2',\n",
       " 'imagenette',\n",
       " 'imagewang',\n",
       " 'imdb_reviews',\n",
       " 'irc_disentanglement',\n",
       " 'iris',\n",
       " 'kitti',\n",
       " 'kmnist',\n",
       " 'lambada',\n",
       " 'lfw',\n",
       " 'librispeech',\n",
       " 'librispeech_lm',\n",
       " 'libritts',\n",
       " 'ljspeech',\n",
       " 'lm1b',\n",
       " 'lost_and_found',\n",
       " 'lsun',\n",
       " 'lvis',\n",
       " 'malaria',\n",
       " 'math_dataset',\n",
       " 'mctaco',\n",
       " 'mlqa',\n",
       " 'mnist',\n",
       " 'mnist_corrupted',\n",
       " 'movie_lens',\n",
       " 'movie_rationales',\n",
       " 'movielens',\n",
       " 'moving_mnist',\n",
       " 'multi_news',\n",
       " 'multi_nli',\n",
       " 'multi_nli_mismatch',\n",
       " 'natural_questions',\n",
       " 'natural_questions_open',\n",
       " 'newsroom',\n",
       " 'nsynth',\n",
       " 'nyu_depth_v2',\n",
       " 'ogbg_molpcba',\n",
       " 'omniglot',\n",
       " 'open_images_challenge2019_detection',\n",
       " 'open_images_v4',\n",
       " 'openbookqa',\n",
       " 'opinion_abstracts',\n",
       " 'opinosis',\n",
       " 'opus',\n",
       " 'oxford_flowers102',\n",
       " 'oxford_iiit_pet',\n",
       " 'para_crawl',\n",
       " 'patch_camelyon',\n",
       " 'paws_wiki',\n",
       " 'paws_x_wiki',\n",
       " 'pet_finder',\n",
       " 'pg19',\n",
       " 'piqa',\n",
       " 'places365_small',\n",
       " 'plant_leaves',\n",
       " 'plant_village',\n",
       " 'plantae_k',\n",
       " 'qa4mre',\n",
       " 'qasc',\n",
       " 'quac',\n",
       " 'quickdraw_bitmap',\n",
       " 'race',\n",
       " 'radon',\n",
       " 'reddit',\n",
       " 'reddit_disentanglement',\n",
       " 'reddit_tifu',\n",
       " 'resisc45',\n",
       " 'robonet',\n",
       " 'rock_paper_scissors',\n",
       " 'rock_you',\n",
       " 's3o4d',\n",
       " 'salient_span_wikipedia',\n",
       " 'samsum',\n",
       " 'savee',\n",
       " 'scan',\n",
       " 'scene_parse150',\n",
       " 'schema_guided_dialogue',\n",
       " 'scicite',\n",
       " 'scientific_papers',\n",
       " 'sentiment140',\n",
       " 'shapes3d',\n",
       " 'siscore',\n",
       " 'smallnorb',\n",
       " 'snli',\n",
       " 'so2sat',\n",
       " 'speech_commands',\n",
       " 'spoken_digit',\n",
       " 'squad',\n",
       " 'stanford_dogs',\n",
       " 'stanford_online_products',\n",
       " 'star_cfq',\n",
       " 'starcraft_video',\n",
       " 'stl10',\n",
       " 'story_cloze',\n",
       " 'sun397',\n",
       " 'super_glue',\n",
       " 'svhn_cropped',\n",
       " 'tao',\n",
       " 'ted_hrlr_translate',\n",
       " 'ted_multi_translate',\n",
       " 'tedlium',\n",
       " 'tf_flowers',\n",
       " 'the300w_lp',\n",
       " 'tiny_shakespeare',\n",
       " 'titanic',\n",
       " 'trec',\n",
       " 'trivia_qa',\n",
       " 'tydi_qa',\n",
       " 'uc_merced',\n",
       " 'ucf101',\n",
       " 'vctk',\n",
       " 'vgg_face2',\n",
       " 'visual_domain_decathlon',\n",
       " 'voc',\n",
       " 'voxceleb',\n",
       " 'voxforge',\n",
       " 'waymo_open_dataset',\n",
       " 'web_nlg',\n",
       " 'web_questions',\n",
       " 'wider_face',\n",
       " 'wiki40b',\n",
       " 'wiki_bio',\n",
       " 'wiki_table_questions',\n",
       " 'wiki_table_text',\n",
       " 'wikiann',\n",
       " 'wikihow',\n",
       " 'wikipedia',\n",
       " 'wikipedia_toxicity_subtypes',\n",
       " 'wine_quality',\n",
       " 'winogrande',\n",
       " 'wmt13_translate',\n",
       " 'wmt14_translate',\n",
       " 'wmt15_translate',\n",
       " 'wmt16_translate',\n",
       " 'wmt17_translate',\n",
       " 'wmt18_translate',\n",
       " 'wmt19_translate',\n",
       " 'wmt_t2t_translate',\n",
       " 'wmt_translate',\n",
       " 'wordnet',\n",
       " 'wsc273',\n",
       " 'xnli',\n",
       " 'xquad',\n",
       " 'xsum',\n",
       " 'xtreme_pawsx',\n",
       " 'xtreme_xnli',\n",
       " 'yelp_polarity_reviews',\n",
       " 'yes_no',\n",
       " 'youtube_vis',\n",
       " 'huggingface:acronym_identification',\n",
       " 'huggingface:ade_corpus_v2',\n",
       " 'huggingface:adversarial_qa',\n",
       " 'huggingface:aeslc',\n",
       " 'huggingface:afrikaans_ner_corpus',\n",
       " 'huggingface:ag_news',\n",
       " 'huggingface:ai2_arc',\n",
       " 'huggingface:air_dialogue',\n",
       " 'huggingface:ajgt_twitter_ar',\n",
       " 'huggingface:allegro_reviews',\n",
       " 'huggingface:allocine',\n",
       " 'huggingface:alt',\n",
       " 'huggingface:amazon_polarity',\n",
       " 'huggingface:amazon_reviews_multi',\n",
       " 'huggingface:amazon_us_reviews',\n",
       " 'huggingface:ambig_qa',\n",
       " 'huggingface:amttl',\n",
       " 'huggingface:anli',\n",
       " 'huggingface:app_reviews',\n",
       " 'huggingface:aqua_rat',\n",
       " 'huggingface:aquamuse',\n",
       " 'huggingface:ar_cov19',\n",
       " 'huggingface:ar_res_reviews',\n",
       " 'huggingface:ar_sarcasm',\n",
       " 'huggingface:arabic_billion_words',\n",
       " 'huggingface:arabic_pos_dialect',\n",
       " 'huggingface:arabic_speech_corpus',\n",
       " 'huggingface:arcd',\n",
       " 'huggingface:arsentd_lev',\n",
       " 'huggingface:art',\n",
       " 'huggingface:arxiv_dataset',\n",
       " 'huggingface:aslg_pc12',\n",
       " 'huggingface:asnq',\n",
       " 'huggingface:asset',\n",
       " 'huggingface:assin',\n",
       " 'huggingface:assin2',\n",
       " 'huggingface:atomic',\n",
       " 'huggingface:autshumato',\n",
       " 'huggingface:bbc_hindi_nli',\n",
       " 'huggingface:bc2gm_corpus',\n",
       " 'huggingface:best2009',\n",
       " 'huggingface:bianet',\n",
       " 'huggingface:bible_para',\n",
       " 'huggingface:big_patent',\n",
       " 'huggingface:billsum',\n",
       " 'huggingface:bing_coronavirus_query_set',\n",
       " 'huggingface:biomrc',\n",
       " 'huggingface:blended_skill_talk',\n",
       " 'huggingface:blimp',\n",
       " 'huggingface:blog_authorship_corpus',\n",
       " 'huggingface:bn_hate_speech',\n",
       " 'huggingface:bookcorpus',\n",
       " 'huggingface:bookcorpusopen',\n",
       " 'huggingface:boolq',\n",
       " 'huggingface:bprec',\n",
       " 'huggingface:break_data',\n",
       " 'huggingface:brwac',\n",
       " 'huggingface:bsd_ja_en',\n",
       " 'huggingface:bswac',\n",
       " 'huggingface:c3',\n",
       " 'huggingface:c4',\n",
       " 'huggingface:cail2018',\n",
       " 'huggingface:caner',\n",
       " 'huggingface:capes',\n",
       " 'huggingface:catalonia_independence',\n",
       " 'huggingface:cawac',\n",
       " 'huggingface:cc100',\n",
       " 'huggingface:cc_news',\n",
       " 'huggingface:cdsc',\n",
       " 'huggingface:cdt',\n",
       " 'huggingface:cfq',\n",
       " 'huggingface:chr_en',\n",
       " 'huggingface:cifar10',\n",
       " 'huggingface:cifar100',\n",
       " 'huggingface:circa',\n",
       " 'huggingface:civil_comments',\n",
       " 'huggingface:clickbait_news_bg',\n",
       " 'huggingface:climate_fever',\n",
       " 'huggingface:clinc_oos',\n",
       " 'huggingface:clue',\n",
       " 'huggingface:cmrc2018',\n",
       " 'huggingface:cnn_dailymail',\n",
       " 'huggingface:coached_conv_pref',\n",
       " 'huggingface:coarse_discourse',\n",
       " 'huggingface:codah',\n",
       " 'huggingface:code_search_net',\n",
       " 'huggingface:com_qa',\n",
       " 'huggingface:common_gen',\n",
       " 'huggingface:commonsense_qa',\n",
       " 'huggingface:compguesswhat',\n",
       " 'huggingface:conceptnet5',\n",
       " 'huggingface:conll2000',\n",
       " 'huggingface:conll2002',\n",
       " 'huggingface:conll2003',\n",
       " 'huggingface:conv_ai',\n",
       " 'huggingface:conv_ai_2',\n",
       " 'huggingface:conv_ai_3',\n",
       " 'huggingface:coqa',\n",
       " 'huggingface:cord19',\n",
       " 'huggingface:cornell_movie_dialog',\n",
       " 'huggingface:cos_e',\n",
       " 'huggingface:cosmos_qa',\n",
       " 'huggingface:counter',\n",
       " 'huggingface:covid_qa_castorini',\n",
       " 'huggingface:covid_qa_deepset',\n",
       " 'huggingface:covid_qa_ucsd',\n",
       " 'huggingface:covid_tweets_japanese',\n",
       " 'huggingface:craigslist_bargains',\n",
       " 'huggingface:crawl_domain',\n",
       " 'huggingface:crd3',\n",
       " 'huggingface:crime_and_punish',\n",
       " 'huggingface:crows_pairs',\n",
       " 'huggingface:cs_restaurants',\n",
       " 'huggingface:curiosity_dialogs',\n",
       " 'huggingface:daily_dialog',\n",
       " 'huggingface:dane',\n",
       " 'huggingface:danish_political_comments',\n",
       " 'huggingface:dart',\n",
       " 'huggingface:datacommons_factcheck',\n",
       " 'huggingface:dbpedia_14',\n",
       " 'huggingface:dbrd',\n",
       " 'huggingface:deal_or_no_dialog',\n",
       " 'huggingface:definite_pronoun_resolution',\n",
       " 'huggingface:dengue_filipino',\n",
       " 'huggingface:dialog_re',\n",
       " 'huggingface:diplomacy_detection',\n",
       " 'huggingface:disaster_response_messages',\n",
       " 'huggingface:discofuse',\n",
       " 'huggingface:discovery',\n",
       " 'huggingface:doc2dial',\n",
       " 'huggingface:docred',\n",
       " 'huggingface:doqa',\n",
       " 'huggingface:dream',\n",
       " 'huggingface:drop',\n",
       " 'huggingface:duorc',\n",
       " 'huggingface:dutch_social',\n",
       " 'huggingface:dyk',\n",
       " 'huggingface:e2e_nlg',\n",
       " 'huggingface:e2e_nlg_cleaned',\n",
       " 'huggingface:ecb',\n",
       " 'huggingface:ehealth_kd',\n",
       " 'huggingface:eitb_parcc',\n",
       " 'huggingface:eli5',\n",
       " 'huggingface:emea',\n",
       " 'huggingface:emo',\n",
       " 'huggingface:emotion',\n",
       " 'huggingface:emotone_ar',\n",
       " 'huggingface:empathetic_dialogues',\n",
       " 'huggingface:enriched_web_nlg',\n",
       " 'huggingface:eraser_multi_rc',\n",
       " 'huggingface:esnli',\n",
       " 'huggingface:eth_py150_open',\n",
       " 'huggingface:ethos',\n",
       " 'huggingface:euronews',\n",
       " 'huggingface:europa_eac_tm',\n",
       " 'huggingface:europa_ecdc_tm',\n",
       " 'huggingface:event2Mind',\n",
       " 'huggingface:evidence_infer_treatment',\n",
       " 'huggingface:exams',\n",
       " 'huggingface:factckbr',\n",
       " 'huggingface:fake_news_english',\n",
       " 'huggingface:fake_news_filipino',\n",
       " 'huggingface:farsi_news',\n",
       " 'huggingface:fever',\n",
       " 'huggingface:finer',\n",
       " 'huggingface:flores',\n",
       " 'huggingface:flue',\n",
       " 'huggingface:fquad',\n",
       " 'huggingface:freebase_qa',\n",
       " 'huggingface:gap',\n",
       " 'huggingface:gem',\n",
       " 'huggingface:generated_reviews_enth',\n",
       " 'huggingface:generics_kb',\n",
       " 'huggingface:german_legal_entity_recognition',\n",
       " 'huggingface:germaner',\n",
       " 'huggingface:germeval_14',\n",
       " 'huggingface:giga_fren',\n",
       " 'huggingface:gigaword',\n",
       " 'huggingface:glucose',\n",
       " 'huggingface:glue',\n",
       " 'huggingface:gnad10',\n",
       " 'huggingface:go_emotions',\n",
       " 'huggingface:google_wellformed_query',\n",
       " 'huggingface:grail_qa',\n",
       " 'huggingface:great_code',\n",
       " 'huggingface:guardian_authorship',\n",
       " 'huggingface:gutenberg_time',\n",
       " 'huggingface:hans',\n",
       " 'huggingface:hansards',\n",
       " 'huggingface:hard',\n",
       " 'huggingface:harem',\n",
       " 'huggingface:has_part',\n",
       " 'huggingface:hate_offensive',\n",
       " 'huggingface:hate_speech18',\n",
       " 'huggingface:hate_speech_filipino',\n",
       " 'huggingface:hate_speech_offensive',\n",
       " 'huggingface:hate_speech_pl',\n",
       " 'huggingface:hate_speech_portuguese',\n",
       " 'huggingface:hatexplain',\n",
       " 'huggingface:hausa_voa_ner',\n",
       " 'huggingface:hausa_voa_topics',\n",
       " 'huggingface:hda_nli_hindi',\n",
       " 'huggingface:head_qa',\n",
       " 'huggingface:health_fact',\n",
       " 'huggingface:hebrew_projectbenyehuda',\n",
       " 'huggingface:hebrew_sentiment',\n",
       " 'huggingface:hebrew_this_world',\n",
       " 'huggingface:hellaswag',\n",
       " 'huggingface:hind_encorp',\n",
       " 'huggingface:hindi_discourse',\n",
       " 'huggingface:hippocorpus',\n",
       " 'huggingface:hkcancor',\n",
       " 'huggingface:hope_edi',\n",
       " 'huggingface:hotpot_qa',\n",
       " 'huggingface:hover',\n",
       " 'huggingface:hrenwac_para',\n",
       " 'huggingface:hrwac',\n",
       " 'huggingface:humicroedit',\n",
       " 'huggingface:hybrid_qa',\n",
       " 'huggingface:hyperpartisan_news_detection',\n",
       " 'huggingface:id_clickbait',\n",
       " 'huggingface:id_liputan6',\n",
       " 'huggingface:id_nergrit_corpus',\n",
       " 'huggingface:id_newspapers_2018',\n",
       " 'huggingface:id_panl_bppt',\n",
       " 'huggingface:id_puisi',\n",
       " 'huggingface:igbo_english_machine_translation',\n",
       " 'huggingface:igbo_monolingual',\n",
       " 'huggingface:igbo_ner',\n",
       " 'huggingface:ilist',\n",
       " 'huggingface:imdb',\n",
       " 'huggingface:imdb_urdu_reviews',\n",
       " 'huggingface:imppres',\n",
       " 'huggingface:indic_glue',\n",
       " 'huggingface:indonlu',\n",
       " 'huggingface:inquisitive_qg',\n",
       " 'huggingface:interpress_news_category_tr',\n",
       " 'huggingface:irc_disentangle',\n",
       " 'huggingface:isixhosa_ner_corpus',\n",
       " 'huggingface:isizulu_ner_corpus',\n",
       " 'huggingface:iwslt2017',\n",
       " 'huggingface:jeopardy',\n",
       " 'huggingface:jfleg',\n",
       " 'huggingface:jigsaw_toxicity_pred',\n",
       " 'huggingface:jnlpba',\n",
       " 'huggingface:journalists_questions',\n",
       " 'huggingface:kannada_news',\n",
       " 'huggingface:kd_conv',\n",
       " 'huggingface:kde4',\n",
       " 'huggingface:kelm',\n",
       " 'huggingface:kilt_tasks',\n",
       " 'huggingface:kilt_wikipedia',\n",
       " 'huggingface:kinnews_kirnews',\n",
       " 'huggingface:kor_3i4k',\n",
       " 'huggingface:kor_hate',\n",
       " 'huggingface:kor_ner',\n",
       " 'huggingface:kor_nli',\n",
       " 'huggingface:kor_nlu',\n",
       " 'huggingface:kor_qpair',\n",
       " 'huggingface:kor_sae',\n",
       " 'huggingface:kor_sarcasm',\n",
       " 'huggingface:labr',\n",
       " 'huggingface:lama',\n",
       " 'huggingface:lambada',\n",
       " 'huggingface:large_spanish_corpus',\n",
       " 'huggingface:lc_quad',\n",
       " 'huggingface:lener_br',\n",
       " 'huggingface:liar',\n",
       " 'huggingface:librispeech_asr',\n",
       " 'huggingface:librispeech_lm',\n",
       " 'huggingface:limit',\n",
       " 'huggingface:lince',\n",
       " 'huggingface:linnaeus',\n",
       " 'huggingface:liveqa',\n",
       " 'huggingface:lj_speech',\n",
       " 'huggingface:lm1b',\n",
       " 'huggingface:lst20',\n",
       " 'huggingface:mac_morpho',\n",
       " 'huggingface:makhzan',\n",
       " 'huggingface:math_dataset',\n",
       " 'huggingface:math_qa',\n",
       " 'huggingface:matinf',\n",
       " 'huggingface:mc_taco',\n",
       " 'huggingface:md_gender_bias',\n",
       " 'huggingface:med_hop',\n",
       " 'huggingface:medal',\n",
       " 'huggingface:medical_dialog',\n",
       " 'huggingface:medical_questions_pairs',\n",
       " 'huggingface:menyo20k_mt',\n",
       " 'huggingface:meta_woz',\n",
       " 'huggingface:metooma',\n",
       " 'huggingface:metrec',\n",
       " 'huggingface:mkb',\n",
       " 'huggingface:mkqa',\n",
       " 'huggingface:mlqa',\n",
       " 'huggingface:mlsum',\n",
       " 'huggingface:mnist',\n",
       " 'huggingface:mocha',\n",
       " 'huggingface:movie_rationales',\n",
       " 'huggingface:mrqa',\n",
       " 'huggingface:ms_marco',\n",
       " 'huggingface:ms_terms',\n",
       " 'huggingface:msr_genomics_kbcomp',\n",
       " 'huggingface:msr_sqa',\n",
       " 'huggingface:msr_text_compression',\n",
       " 'huggingface:msr_zhen_translation_parity',\n",
       " 'huggingface:msra_ner',\n",
       " 'huggingface:mt_eng_vietnamese',\n",
       " 'huggingface:muchocine',\n",
       " 'huggingface:multi_booked',\n",
       " 'huggingface:multi_news',\n",
       " 'huggingface:multi_nli',\n",
       " 'huggingface:multi_nli_mismatch',\n",
       " 'huggingface:multi_para_crawl',\n",
       " 'huggingface:multi_re_qa',\n",
       " 'huggingface:multi_woz_v22',\n",
       " 'huggingface:multi_x_science_sum',\n",
       " 'huggingface:mutual_friends',\n",
       " 'huggingface:mwsc',\n",
       " 'huggingface:myanmar_news',\n",
       " 'huggingface:narrativeqa',\n",
       " 'huggingface:narrativeqa_manual',\n",
       " 'huggingface:natural_questions',\n",
       " 'huggingface:ncbi_disease',\n",
       " 'huggingface:nchlt',\n",
       " 'huggingface:ncslgr',\n",
       " 'huggingface:nell',\n",
       " 'huggingface:neural_code_search',\n",
       " 'huggingface:news_commentary',\n",
       " 'huggingface:newsgroup',\n",
       " 'huggingface:newsph',\n",
       " 'huggingface:newsph_nli',\n",
       " 'huggingface:newsqa',\n",
       " 'huggingface:newsroom',\n",
       " 'huggingface:nkjp-ner',\n",
       " 'huggingface:nli_tr',\n",
       " 'huggingface:norwegian_ner',\n",
       " 'huggingface:nq_open',\n",
       " 'huggingface:nsmc',\n",
       " 'huggingface:numer_sense',\n",
       " 'huggingface:numeric_fused_head',\n",
       " 'huggingface:oclar',\n",
       " 'huggingface:offcombr',\n",
       " 'huggingface:offenseval2020_tr',\n",
       " 'huggingface:offenseval_dravidian',\n",
       " 'huggingface:ofis_publik',\n",
       " 'huggingface:ohsumed',\n",
       " 'huggingface:ollie',\n",
       " 'huggingface:omp',\n",
       " 'huggingface:onestop_english',\n",
       " 'huggingface:open_subtitles',\n",
       " 'huggingface:openbookqa',\n",
       " 'huggingface:openwebtext',\n",
       " 'huggingface:opinosis',\n",
       " 'huggingface:opus100',\n",
       " 'huggingface:opus_books',\n",
       " 'huggingface:opus_dgt',\n",
       " 'huggingface:opus_dogc',\n",
       " 'huggingface:opus_elhuyar',\n",
       " 'huggingface:opus_euconst',\n",
       " 'huggingface:opus_finlex',\n",
       " 'huggingface:opus_fiskmo',\n",
       " 'huggingface:opus_gnome',\n",
       " 'huggingface:opus_infopankki',\n",
       " 'huggingface:opus_memat',\n",
       " 'huggingface:opus_montenegrinsubs',\n",
       " 'huggingface:opus_openoffice',\n",
       " 'huggingface:opus_paracrawl',\n",
       " 'huggingface:opus_rf',\n",
       " 'huggingface:opus_tedtalks',\n",
       " 'huggingface:opus_ubuntu',\n",
       " 'huggingface:opus_wikipedia',\n",
       " 'huggingface:opus_xhosanavy',\n",
       " 'huggingface:orange_sum',\n",
       " 'huggingface:oscar',\n",
       " 'huggingface:para_crawl',\n",
       " 'huggingface:para_pat',\n",
       " 'huggingface:paws',\n",
       " 'huggingface:paws-x',\n",
       " 'huggingface:pec',\n",
       " 'huggingface:peer_read',\n",
       " 'huggingface:peoples_daily_ner',\n",
       " 'huggingface:per_sent',\n",
       " 'huggingface:persian_ner',\n",
       " 'huggingface:pg19',\n",
       " 'huggingface:php',\n",
       " 'huggingface:piaf',\n",
       " 'huggingface:pib',\n",
       " 'huggingface:piqa',\n",
       " 'huggingface:pn_summary',\n",
       " 'huggingface:poem_sentiment',\n",
       " 'huggingface:polemo2',\n",
       " 'huggingface:poleval2019_cyberbullying',\n",
       " 'huggingface:poleval2019_mt',\n",
       " 'huggingface:polsum',\n",
       " 'huggingface:polyglot_ner',\n",
       " 'huggingface:prachathai67k',\n",
       " 'huggingface:pragmeval',\n",
       " 'huggingface:proto_qa',\n",
       " 'huggingface:psc',\n",
       " 'huggingface:ptb_text_only',\n",
       " 'huggingface:pubmed',\n",
       " 'huggingface:pubmed_qa',\n",
       " 'huggingface:py_ast',\n",
       " 'huggingface:qa4mre',\n",
       " 'huggingface:qa_srl',\n",
       " 'huggingface:qa_zre',\n",
       " 'huggingface:qangaroo',\n",
       " 'huggingface:qanta',\n",
       " 'huggingface:qasc',\n",
       " 'huggingface:qed',\n",
       " 'huggingface:qed_amara',\n",
       " 'huggingface:quac',\n",
       " 'huggingface:quail',\n",
       " 'huggingface:quarel',\n",
       " 'huggingface:quartz',\n",
       " 'huggingface:quora',\n",
       " 'huggingface:quoref',\n",
       " 'huggingface:race',\n",
       " 'huggingface:re_dial',\n",
       " 'huggingface:reasoning_bg',\n",
       " 'huggingface:recipe_nlg',\n",
       " 'huggingface:reclor',\n",
       " 'huggingface:reddit',\n",
       " 'huggingface:reddit_tifu',\n",
       " 'huggingface:refresd',\n",
       " 'huggingface:reuters21578',\n",
       " 'huggingface:roman_urdu',\n",
       " 'huggingface:ronec',\n",
       " 'huggingface:ropes',\n",
       " 'huggingface:rotten_tomatoes',\n",
       " 'huggingface:s2orc',\n",
       " 'huggingface:samsum',\n",
       " 'huggingface:sanskrit_classic',\n",
       " 'huggingface:saudinewsnet',\n",
       " 'huggingface:scan',\n",
       " 'huggingface:scb_mt_enth_2020',\n",
       " 'huggingface:schema_guided_dstc8',\n",
       " 'huggingface:scicite',\n",
       " 'huggingface:scielo',\n",
       " 'huggingface:scientific_papers',\n",
       " 'huggingface:scifact',\n",
       " 'huggingface:sciq',\n",
       " 'huggingface:scitail',\n",
       " 'huggingface:scitldr',\n",
       " 'huggingface:search_qa',\n",
       " 'huggingface:selqa',\n",
       " 'huggingface:sem_eval_2010_task_8',\n",
       " 'huggingface:sem_eval_2014_task_1',\n",
       " 'huggingface:sem_eval_2020_task_11',\n",
       " 'huggingface:sent_comp',\n",
       " 'huggingface:senti_lex',\n",
       " 'huggingface:senti_ws',\n",
       " 'huggingface:sentiment140',\n",
       " 'huggingface:sepedi_ner',\n",
       " 'huggingface:sesotho_ner_corpus',\n",
       " 'huggingface:setimes',\n",
       " 'huggingface:setswana_ner_corpus',\n",
       " 'huggingface:sharc',\n",
       " 'huggingface:sharc_modified',\n",
       " 'huggingface:sick',\n",
       " 'huggingface:silicone',\n",
       " 'huggingface:simple_questions_v2',\n",
       " 'huggingface:siswati_ner_corpus',\n",
       " 'huggingface:smartdata',\n",
       " 'huggingface:sms_spam',\n",
       " 'huggingface:snips_built_in_intents',\n",
       " 'huggingface:snli',\n",
       " 'huggingface:snow_simplified_japanese_corpus',\n",
       " 'huggingface:so_stacksample',\n",
       " 'huggingface:social_bias_frames',\n",
       " 'huggingface:social_i_qa',\n",
       " 'huggingface:sofc_materials_articles',\n",
       " 'huggingface:sogou_news',\n",
       " 'huggingface:spanish_billion_words',\n",
       " 'huggingface:spc',\n",
       " 'huggingface:species_800',\n",
       " 'huggingface:spider',\n",
       " 'huggingface:squad',\n",
       " 'huggingface:squad_adversarial',\n",
       " 'huggingface:squad_es',\n",
       " 'huggingface:squad_it',\n",
       " 'huggingface:squad_kor_v1',\n",
       " 'huggingface:squad_kor_v2',\n",
       " 'huggingface:squad_v1_pt',\n",
       " 'huggingface:squad_v2',\n",
       " 'huggingface:squadshifts',\n",
       " 'huggingface:srwac',\n",
       " 'huggingface:stereoset',\n",
       " 'huggingface:stsb_mt_sv',\n",
       " 'huggingface:style_change_detection',\n",
       " 'huggingface:super_glue',\n",
       " 'huggingface:swag',\n",
       " 'huggingface:swahili',\n",
       " 'huggingface:swahili_news',\n",
       " 'huggingface:swda',\n",
       " 'huggingface:swedish_ner_corpus',\n",
       " 'huggingface:swedish_reviews',\n",
       " 'huggingface:tab_fact',\n",
       " 'huggingface:tamilmixsentiment',\n",
       " 'huggingface:tanzil',\n",
       " 'huggingface:tapaco',\n",
       " 'huggingface:tashkeela',\n",
       " 'huggingface:taskmaster1',\n",
       " 'huggingface:taskmaster2',\n",
       " 'huggingface:taskmaster3',\n",
       " 'huggingface:tatoeba',\n",
       " 'huggingface:ted_hrlr',\n",
       " 'huggingface:ted_iwlst2013',\n",
       " 'huggingface:ted_multi',\n",
       " 'huggingface:ted_talks_iwslt',\n",
       " 'huggingface:telugu_books',\n",
       " 'huggingface:telugu_news',\n",
       " 'huggingface:tep_en_fa_para',\n",
       " 'huggingface:thai_toxicity_tweet',\n",
       " 'huggingface:thainer',\n",
       " 'huggingface:thaiqa_squad',\n",
       " 'huggingface:thaisum',\n",
       " 'huggingface:tilde_model',\n",
       " 'huggingface:times_of_india_news_headlines',\n",
       " 'huggingface:tiny_shakespeare',\n",
       " 'huggingface:tlc',\n",
       " 'huggingface:tmu_gfm_dataset',\n",
       " 'huggingface:totto',\n",
       " 'huggingface:trec',\n",
       " 'huggingface:trivia_qa',\n",
       " 'huggingface:tsac',\n",
       " 'huggingface:ttc4900',\n",
       " 'huggingface:tunizi',\n",
       " 'huggingface:tuple_ie',\n",
       " 'huggingface:turk',\n",
       " 'huggingface:turkish_movie_sentiment',\n",
       " 'huggingface:turkish_ner',\n",
       " 'huggingface:turkish_product_reviews',\n",
       " 'huggingface:turkish_shrinked_ner',\n",
       " 'huggingface:turku_ner_corpus',\n",
       " 'huggingface:tweet_eval',\n",
       " 'huggingface:tweet_qa',\n",
       " 'huggingface:tweets_ar_en_parallel',\n",
       " 'huggingface:tweets_hate_speech_detection',\n",
       " 'huggingface:twi_text_c3',\n",
       " 'huggingface:twi_wordsim353',\n",
       " 'huggingface:tydiqa',\n",
       " 'huggingface:ubuntu_dialogs_corpus',\n",
       " 'huggingface:udhr',\n",
       " 'huggingface:um005',\n",
       " 'huggingface:un_ga',\n",
       " 'huggingface:un_multi',\n",
       " 'huggingface:un_pc',\n",
       " 'huggingface:universal_dependencies',\n",
       " 'huggingface:universal_morphologies',\n",
       " 'huggingface:urdu_fake_news',\n",
       " 'huggingface:urdu_sentiment_corpus',\n",
       " 'huggingface:web_nlg',\n",
       " 'huggingface:web_of_science',\n",
       " 'huggingface:web_questions',\n",
       " 'huggingface:weibo_ner',\n",
       " 'huggingface:wi_locness',\n",
       " 'huggingface:wiki40b',\n",
       " 'huggingface:wiki_asp',\n",
       " 'huggingface:wiki_atomic_edits',\n",
       " 'huggingface:wiki_auto',\n",
       " 'huggingface:wiki_bio',\n",
       " 'huggingface:wiki_dpr',\n",
       " 'huggingface:wiki_hop',\n",
       " 'huggingface:wiki_lingua',\n",
       " 'huggingface:wiki_movies',\n",
       " 'huggingface:wiki_qa',\n",
       " 'huggingface:wiki_qa_ar',\n",
       " 'huggingface:wiki_snippets',\n",
       " 'huggingface:wiki_source',\n",
       " 'huggingface:wiki_split',\n",
       " 'huggingface:wiki_summary',\n",
       " 'huggingface:wikiann',\n",
       " 'huggingface:wikicorpus',\n",
       " 'huggingface:wikihow',\n",
       " 'huggingface:wikipedia',\n",
       " 'huggingface:wikisql',\n",
       " 'huggingface:wikitext',\n",
       " 'huggingface:wikitext_tl39',\n",
       " 'huggingface:wili_2018',\n",
       " 'huggingface:wino_bias',\n",
       " 'huggingface:winograd_wsc',\n",
       " 'huggingface:winogrande',\n",
       " 'huggingface:wiqa',\n",
       " 'huggingface:wisesight1000',\n",
       " 'huggingface:wisesight_sentiment',\n",
       " 'huggingface:wmt14',\n",
       " 'huggingface:wmt15',\n",
       " 'huggingface:wmt16',\n",
       " 'huggingface:wmt17',\n",
       " 'huggingface:wmt18',\n",
       " 'huggingface:wmt19',\n",
       " 'huggingface:wmt20_mlqe_task1',\n",
       " 'huggingface:wmt20_mlqe_task2',\n",
       " 'huggingface:wmt20_mlqe_task3',\n",
       " 'huggingface:wmt_t2t',\n",
       " 'huggingface:wnut_17',\n",
       " 'huggingface:wongnai_reviews',\n",
       " 'huggingface:woz_dialogue',\n",
       " 'huggingface:wrbsc',\n",
       " 'huggingface:x_stance',\n",
       " 'huggingface:xcopa',\n",
       " 'huggingface:xed_en_fi',\n",
       " 'huggingface:xglue',\n",
       " 'huggingface:xnli',\n",
       " 'huggingface:xor_tydi_qa',\n",
       " 'huggingface:xquad',\n",
       " 'huggingface:xquad_r',\n",
       " 'huggingface:xsum',\n",
       " 'huggingface:xsum_factuality',\n",
       " 'huggingface:xtreme',\n",
       " 'huggingface:yahoo_answers_qa',\n",
       " 'huggingface:yahoo_answers_topics',\n",
       " 'huggingface:yelp_polarity',\n",
       " 'huggingface:yelp_review_full',\n",
       " 'huggingface:yoruba_bbc_topics',\n",
       " 'huggingface:yoruba_gv_ner',\n",
       " 'huggingface:yoruba_text_c3',\n",
       " 'huggingface:yoruba_wordsim353',\n",
       " 'huggingface:youtube_caption_corrections',\n",
       " 'huggingface:zest']"
      ]
     },
     "execution_count": 4,
     "metadata": {},
     "output_type": "execute_result"
    }
   ],
   "source": [
    "tfds.list_builders()"
   ]
  },
  {
   "cell_type": "markdown",
   "id": "e9c88e54",
   "metadata": {},
   "source": [
    "### Load Data\n",
    "\n",
    "- big size data\n",
    "- use only validation and test data\n",
    "- resize the img"
   ]
  },
  {
   "cell_type": "code",
   "execution_count": 5,
   "id": "9d599650",
   "metadata": {},
   "outputs": [],
   "source": [
    "celeb_a = tfds.load('celeb_a')"
   ]
  },
  {
   "cell_type": "code",
   "execution_count": 6,
   "id": "4ce7250f",
   "metadata": {},
   "outputs": [],
   "source": [
    "import imageio\n",
    "from skimage.transform import resize"
   ]
  },
  {
   "cell_type": "code",
   "execution_count": 7,
   "id": "265149bf",
   "metadata": {},
   "outputs": [],
   "source": [
    "celeb_a_train, celeb_a_test = celeb_a['validation'], celeb_a['test']"
   ]
  },
  {
   "cell_type": "code",
   "execution_count": 8,
   "id": "dd8278c6",
   "metadata": {},
   "outputs": [],
   "source": [
    "train_images = []\n",
    "train_labels = []\n",
    "\n",
    "for tensor in tfds.as_numpy(celeb_a_train):\n",
    "    isMale = tensor['attributes']['Male']\n",
    "    isSmiling = tensor['attributes']['Smiling']\n",
    "    \n",
    "    label = np.array([isMale, isSmiling]).astype(np.int8)\n",
    "    img = resize(tensor['image'], (72, 59))\n",
    "    \n",
    "    train_images.append(img)\n",
    "    train_labels.append(label)"
   ]
  },
  {
   "cell_type": "code",
   "execution_count": 9,
   "id": "7a60295d",
   "metadata": {},
   "outputs": [],
   "source": [
    "test_images = []\n",
    "test_labels = []\n",
    "\n",
    "for tensor in tfds.as_numpy(celeb_a_test):\n",
    "    isMale = tensor['attributes']['Male']\n",
    "    isSmiling = tensor['attributes']['Smiling']\n",
    "    \n",
    "    label = np.array([isMale, isSmiling]).astype(np.int8)\n",
    "    img = resize(tensor['image'], (72, 59))\n",
    "    \n",
    "    test_images.append(img)\n",
    "    test_labels.append(label)"
   ]
  },
  {
   "cell_type": "code",
   "execution_count": 10,
   "id": "88e5d939",
   "metadata": {},
   "outputs": [
    {
     "data": {
      "text/plain": [
       "(19962, 19867)"
      ]
     },
     "execution_count": 10,
     "metadata": {},
     "output_type": "execute_result"
    }
   ],
   "source": [
    "len(test_images), len(train_images)"
   ]
  },
  {
   "cell_type": "code",
   "execution_count": 11,
   "id": "9ed13e31",
   "metadata": {},
   "outputs": [],
   "source": [
    "m_s = [] # male smile\n",
    "f_s = [] # female smile\n",
    "m_n = [] # male not smile\n",
    "f_n = [] # female not smile\n",
    "\n",
    "for a, b in zip(test_images, test_labels):\n",
    "    if b[0] and b[1]:\n",
    "        m_s.append((a,b))\n",
    "    elif not b[0] and b[1]:\n",
    "        f_s.append((a,b))\n",
    "    elif b[0] and not b[1]:\n",
    "        m_n.append((a,b))\n",
    "    elif not b[0] and not b[0]:\n",
    "        f_n.append((a,b))"
   ]
  },
  {
   "cell_type": "code",
   "execution_count": 12,
   "id": "1197dffd",
   "metadata": {},
   "outputs": [
    {
     "data": {
      "text/plain": [
       "(3094, 6893, 4621, 5354)"
      ]
     },
     "execution_count": 12,
     "metadata": {},
     "output_type": "execute_result"
    }
   ],
   "source": [
    "len(m_s), len(f_s), len(m_n), len(f_n)"
   ]
  },
  {
   "cell_type": "code",
   "execution_count": 13,
   "id": "0664ff26",
   "metadata": {},
   "outputs": [],
   "source": [
    "total = m_s[:550] + f_s[:550] + m_n[:550] + f_n[:550]"
   ]
  },
  {
   "cell_type": "code",
   "execution_count": 14,
   "id": "46210e07",
   "metadata": {},
   "outputs": [
    {
     "data": {
      "text/plain": [
       "2200"
      ]
     },
     "execution_count": 14,
     "metadata": {},
     "output_type": "execute_result"
    }
   ],
   "source": [
    "len(total)"
   ]
  },
  {
   "cell_type": "code",
   "execution_count": 15,
   "id": "1d6347c2",
   "metadata": {},
   "outputs": [
    {
     "data": {
      "text/plain": [
       "(2000, 200)"
      ]
     },
     "execution_count": 15,
     "metadata": {},
     "output_type": "execute_result"
    }
   ],
   "source": [
    "import random\n",
    "random.shuffle(total)\n",
    "trains = total[:2000]\n",
    "tests = total[2000:]\n",
    "len(trains), len(tests)"
   ]
  },
  {
   "cell_type": "code",
   "execution_count": 16,
   "id": "6bfd8e3f",
   "metadata": {},
   "outputs": [],
   "source": [
    "train_images, train_labels = list(zip(*trains))\n",
    "test_images, test_labels = list(zip(*tests))\n",
    "\n",
    "train_images = np.array(train_images)\n",
    "test_images = np.array(test_images)\n",
    "train_labels = np.array(train_labels)\n",
    "test_labels = np.array(test_labels)"
   ]
  },
  {
   "cell_type": "code",
   "execution_count": 17,
   "id": "7007e4c6",
   "metadata": {},
   "outputs": [
    {
     "name": "stdout",
     "output_type": "stream",
     "text": [
      "(72, 59, 3) (2,)\n"
     ]
    }
   ],
   "source": [
    "x = train_images[0]\n",
    "y = train_labels[0]\n",
    "print(x.shape, y.shape)"
   ]
  },
  {
   "cell_type": "code",
   "execution_count": 18,
   "id": "1983d861",
   "metadata": {},
   "outputs": [
    {
     "data": {
      "image/png": "[encoded data removed]",
      "text/plain": [
       "<Figure size 432x288 with 1 Axes>"
      ]
     },
     "metadata": {
      "needs_background": "light"
     },
     "output_type": "display_data"
    },
    {
     "name": "stdout",
     "output_type": "stream",
     "text": [
      "[0 1]\n"
     ]
    }
   ],
   "source": [
    "plt.imshow(x)\n",
    "plt.show()\n",
    "print(y)"
   ]
  },
  {
   "cell_type": "code",
   "execution_count": 19,
   "id": "c3c5384c",
   "metadata": {},
   "outputs": [
    {
     "name": "stdout",
     "output_type": "stream",
     "text": [
      "(2000, 72, 59, 3) (200, 72, 59, 3)\n",
      "(2000, 2) (200, 2)\n",
      "float64 float64\n",
      "int8 int8\n"
     ]
    }
   ],
   "source": [
    "print(train_images.shape, test_images.shape) # check shape\n",
    "print(train_labels.shape, test_labels.shape) # check shape\n",
    "\n",
    "print(train_images.dtype, test_images.dtype) # check data type\n",
    "print(train_labels.dtype, test_labels.dtype) # check data type"
   ]
  },
  {
   "cell_type": "code",
   "execution_count": 20,
   "id": "403009e8",
   "metadata": {},
   "outputs": [
    {
     "name": "stdout",
     "output_type": "stream",
     "text": [
      "0.0 1.0\n",
      "0.0 1.0\n"
     ]
    }
   ],
   "source": [
    "# find min/max of image data\n",
    "print(train_images.min(), train_images.max())\n",
    "print(test_images.min(), test_images.max())"
   ]
  },
  {
   "cell_type": "markdown",
   "id": "c83a1907",
   "metadata": {},
   "source": [
    "### one-hot encoding \n",
    "- (male/female, smile/not smile) -> (male, female, smile, not smile)\n",
    "    - i.e. (0, 0) -> (1, 0, 1, 0)\n",
    "    - i.e. which means female not smiling"
   ]
  },
  {
   "cell_type": "code",
   "execution_count": 21,
   "id": "290d8833",
   "metadata": {},
   "outputs": [],
   "source": [
    "from tensorflow.keras.utils import to_categorical\n",
    "\n",
    "train_male_labels, train_smile_labels = np.split(train_labels, 2, axis = 1)\n",
    "test_male_labels, test_smile_labels = np.split(test_labels, 2, axis = 1)"
   ]
  },
  {
   "cell_type": "code",
   "execution_count": 22,
   "id": "3244d1c3",
   "metadata": {},
   "outputs": [
    {
     "name": "stdout",
     "output_type": "stream",
     "text": [
      "[0] [1]\n"
     ]
    },
    {
     "data": {
      "image/png": "[encoded data removed]",
      "text/plain": [
       "<Figure size 432x288 with 1 Axes>"
      ]
     },
     "metadata": {
      "needs_background": "light"
     },
     "output_type": "display_data"
    }
   ],
   "source": [
    "print(train_male_labels[0], train_smile_labels[0]) # 1/0: male/female, 1/0: smile/not smile\n",
    "plt.imshow(train_images[0])\n",
    "plt.show()"
   ]
  },
  {
   "cell_type": "code",
   "execution_count": 23,
   "id": "ae31083e",
   "metadata": {},
   "outputs": [],
   "source": [
    "train_male_labels = to_categorical(train_male_labels, dtype='int8')\n",
    "train_smile_labels = to_categorical(train_smile_labels, dtype='int8')\n",
    "test_male_labels = to_categorical(test_male_labels, dtype='int8')\n",
    "test_smile_labels = to_categorical(test_smile_labels, dtype='int8')"
   ]
  },
  {
   "cell_type": "code",
   "execution_count": 24,
   "id": "666ea916",
   "metadata": {},
   "outputs": [
    {
     "name": "stdout",
     "output_type": "stream",
     "text": [
      "(2000, 2) (2000, 2)\n"
     ]
    }
   ],
   "source": [
    "print(train_male_labels.shape, train_smile_labels.shape)"
   ]
  },
  {
   "cell_type": "code",
   "execution_count": 25,
   "id": "95c1764b",
   "metadata": {},
   "outputs": [],
   "source": [
    "train_labels2 = np.concatenate([train_male_labels, train_smile_labels], axis=1)\n",
    "test_labels2 = np.concatenate([test_male_labels, test_smile_labels], axis=1)"
   ]
  },
  {
   "cell_type": "code",
   "execution_count": 26,
   "id": "e1341ffc",
   "metadata": {},
   "outputs": [
    {
     "name": "stdout",
     "output_type": "stream",
     "text": [
      "(2000, 4) (200, 4)\n"
     ]
    }
   ],
   "source": [
    "print(train_labels2.shape, test_labels2.shape)"
   ]
  },
  {
   "cell_type": "markdown",
   "id": "25937aab",
   "metadata": {},
   "source": [
    "### Visualization"
   ]
  },
  {
   "cell_type": "code",
   "execution_count": 27,
   "id": "8b4790eb",
   "metadata": {},
   "outputs": [
    {
     "name": "stdout",
     "output_type": "stream",
     "text": [
      "(72, 295, 3)\n"
     ]
    }
   ],
   "source": [
    "visual = train_images[:5]\n",
    "visual = np.hstack(visual)\n",
    "print(visual.shape)"
   ]
  },
  {
   "cell_type": "code",
   "execution_count": 28,
   "id": "f57e6d14",
   "metadata": {},
   "outputs": [
    {
     "data": {
      "image/png": "[encoded data removed]",
      "text/plain": [
       "<Figure size 432x288 with 1 Axes>"
      ]
     },
     "metadata": {
      "needs_background": "light"
     },
     "output_type": "display_data"
    },
    {
     "name": "stdout",
     "output_type": "stream",
     "text": [
      "[[1 0 0 1]\n",
      " [1 0 1 0]\n",
      " [1 0 1 0]\n",
      " [0 1 0 1]\n",
      " [0 1 0 1]]\n"
     ]
    }
   ],
   "source": [
    "plt.imshow(visual)\n",
    "plt.show()\n",
    "print(train_labels2[:5])"
   ]
  },
  {
   "cell_type": "markdown",
   "id": "c9541e48",
   "metadata": {},
   "source": [
    "### Visualization 2"
   ]
  },
  {
   "cell_type": "code",
   "execution_count": 29,
   "id": "facceecb",
   "metadata": {},
   "outputs": [
    {
     "name": "stdout",
     "output_type": "stream",
     "text": [
      "(72, 295, 3)\n"
     ]
    }
   ],
   "source": [
    "visual = train_images[:5].transpose((1, 0, 2, 3)).reshape(72, -1, 3)\n",
    "print(visual.shape)"
   ]
  },
  {
   "cell_type": "code",
   "execution_count": 30,
   "id": "5494e96c",
   "metadata": {},
   "outputs": [
    {
     "data": {
      "image/png": "[encoded data removed]",
      "text/plain": [
       "<Figure size 432x288 with 1 Axes>"
      ]
     },
     "metadata": {
      "needs_background": "light"
     },
     "output_type": "display_data"
    }
   ],
   "source": [
    "plt.imshow(visual)\n",
    "plt.show()"
   ]
  },
  {
   "cell_type": "markdown",
   "id": "69d045ba",
   "metadata": {},
   "source": [
    "### Modeling\n",
    "\n",
    "##### 1. Two different model!\n",
    "- model 1 for male/female classification\n",
    "- model 2 for smiling/not smiling classification"
   ]
  },
  {
   "cell_type": "code",
   "execution_count": 31,
   "id": "c702ddb0",
   "metadata": {},
   "outputs": [],
   "source": [
    "from tensorflow.keras.models import Model\n",
    "from tensorflow.keras.layers import Conv2D, MaxPool2D, Input, Flatten, Dense\n",
    "\n",
    "def simple_model():\n",
    "    inputs = Input((72, 59, 3))\n",
    "\n",
    "    x = Conv2D(32, 3, activation='relu')(inputs)\n",
    "    x = MaxPool2D(2)(x)\n",
    "    x = Conv2D(64, 3, activation='relu')(x)\n",
    "    x = MaxPool2D(2)(x)\n",
    "    x = Conv2D(64, 3, activation='relu')(x)\n",
    "    x = MaxPool2D(2)(x)\n",
    "    \n",
    "    x = Flatten()(x)\n",
    "    x = Dense(64, activation='relu')(x)\n",
    "    outputs = Dense(2, activation='softmax')(x)\n",
    "\n",
    "    model = Model(inputs, outputs)\n",
    "    return model"
   ]
  },
  {
   "cell_type": "code",
   "execution_count": 32,
   "id": "871d5cb6",
   "metadata": {},
   "outputs": [],
   "source": [
    "# two models\n",
    "gender_model = simple_model()\n",
    "smile_model = simple_model()"
   ]
  },
  {
   "cell_type": "code",
   "execution_count": 33,
   "id": "71e83087",
   "metadata": {},
   "outputs": [
    {
     "name": "stdout",
     "output_type": "stream",
     "text": [
      "Model: \"model\"\n",
      "_________________________________________________________________\n",
      "Layer (type)                 Output Shape              Param #   \n",
      "=================================================================\n",
      "input_1 (InputLayer)         [(None, 72, 59, 3)]       0         \n",
      "_________________________________________________________________\n",
      "conv2d (Conv2D)              (None, 70, 57, 32)        896       \n",
      "_________________________________________________________________\n",
      "max_pooling2d (MaxPooling2D) (None, 35, 28, 32)        0         \n",
      "_________________________________________________________________\n",
      "conv2d_1 (Conv2D)            (None, 33, 26, 64)        18496     \n",
      "_________________________________________________________________\n",
      "max_pooling2d_1 (MaxPooling2 (None, 16, 13, 64)        0         \n",
      "_________________________________________________________________\n",
      "conv2d_2 (Conv2D)            (None, 14, 11, 64)        36928     \n",
      "_________________________________________________________________\n",
      "max_pooling2d_2 (MaxPooling2 (None, 7, 5, 64)          0         \n",
      "_________________________________________________________________\n",
      "flatten (Flatten)            (None, 2240)              0         \n",
      "_________________________________________________________________\n",
      "dense (Dense)                (None, 64)                143424    \n",
      "_________________________________________________________________\n",
      "dense_1 (Dense)              (None, 2)                 130       \n",
      "=================================================================\n",
      "Total params: 199,874\n",
      "Trainable params: 199,874\n",
      "Non-trainable params: 0\n",
      "_________________________________________________________________\n"
     ]
    }
   ],
   "source": [
    "gender_model.summary()"
   ]
  },
  {
   "cell_type": "code",
   "execution_count": 34,
   "id": "bac34622",
   "metadata": {},
   "outputs": [],
   "source": [
    "gender_model.compile(loss='categorical_crossentropy', optimizer='adam', metrics='accuracy')\n",
    "smile_model.compile(loss='categorical_crossentropy', optimizer='adam', metrics='accuracy')"
   ]
  },
  {
   "cell_type": "code",
   "execution_count": 35,
   "id": "0a00def7",
   "metadata": {},
   "outputs": [
    {
     "name": "stdout",
     "output_type": "stream",
     "text": [
      "Epoch 1/15\n",
      "63/63 [==============================] - 5s 69ms/step - loss: 0.5957 - accuracy: 0.6890 - val_loss: 0.5689 - val_accuracy: 0.6800\n",
      "Epoch 2/15\n",
      "63/63 [==============================] - 4s 71ms/step - loss: 0.4579 - accuracy: 0.7965 - val_loss: 0.3710 - val_accuracy: 0.8400\n",
      "Epoch 3/15\n",
      "63/63 [==============================] - 4s 70ms/step - loss: 0.3353 - accuracy: 0.8565 - val_loss: 0.2593 - val_accuracy: 0.9000\n",
      "Epoch 4/15\n",
      "63/63 [==============================] - 4s 69ms/step - loss: 0.2314 - accuracy: 0.9115 - val_loss: 0.1966 - val_accuracy: 0.9200\n",
      "Epoch 5/15\n",
      "63/63 [==============================] - 4s 67ms/step - loss: 0.1728 - accuracy: 0.9340 - val_loss: 0.2020 - val_accuracy: 0.9250\n",
      "Epoch 6/15\n",
      "63/63 [==============================] - 4s 66ms/step - loss: 0.1250 - accuracy: 0.9585 - val_loss: 0.1581 - val_accuracy: 0.9350\n",
      "Epoch 7/15\n",
      "63/63 [==============================] - 4s 66ms/step - loss: 0.0946 - accuracy: 0.9670 - val_loss: 0.2335 - val_accuracy: 0.9250\n",
      "Epoch 8/15\n",
      "63/63 [==============================] - 4s 67ms/step - loss: 0.0789 - accuracy: 0.9710 - val_loss: 0.1688 - val_accuracy: 0.9400\n",
      "Epoch 9/15\n",
      "63/63 [==============================] - 4s 68ms/step - loss: 0.0752 - accuracy: 0.9725 - val_loss: 0.1558 - val_accuracy: 0.9350\n",
      "Epoch 10/15\n",
      "63/63 [==============================] - 4s 68ms/step - loss: 0.0516 - accuracy: 0.9810 - val_loss: 0.2333 - val_accuracy: 0.9250\n",
      "Epoch 11/15\n",
      "63/63 [==============================] - 4s 69ms/step - loss: 0.0342 - accuracy: 0.9900 - val_loss: 0.1823 - val_accuracy: 0.9300\n",
      "Epoch 12/15\n",
      "63/63 [==============================] - 4s 68ms/step - loss: 0.0196 - accuracy: 0.9950 - val_loss: 0.1273 - val_accuracy: 0.9400\n",
      "Epoch 13/15\n",
      "63/63 [==============================] - 4s 69ms/step - loss: 0.0123 - accuracy: 0.9980 - val_loss: 0.1844 - val_accuracy: 0.9400\n",
      "Epoch 14/15\n",
      "63/63 [==============================] - 4s 68ms/step - loss: 0.0369 - accuracy: 0.9860 - val_loss: 0.2017 - val_accuracy: 0.9300\n",
      "Epoch 15/15\n",
      "63/63 [==============================] - 4s 68ms/step - loss: 0.0292 - accuracy: 0.9905 - val_loss: 0.1679 - val_accuracy: 0.9400\n"
     ]
    }
   ],
   "source": [
    "gender_hist = gender_model.fit(train_images, train_male_labels, validation_data=(test_images, test_male_labels), epochs=15, verbose=1)"
   ]
  },
  {
   "cell_type": "code",
   "execution_count": 36,
   "id": "9e38c2c3",
   "metadata": {},
   "outputs": [
    {
     "name": "stdout",
     "output_type": "stream",
     "text": [
      "Epoch 1/15\n",
      "63/63 [==============================] - 5s 69ms/step - loss: 0.6885 - accuracy: 0.5405 - val_loss: 0.6529 - val_accuracy: 0.6700\n",
      "Epoch 2/15\n",
      "63/63 [==============================] - 4s 67ms/step - loss: 0.6044 - accuracy: 0.6805 - val_loss: 0.5979 - val_accuracy: 0.7150\n",
      "Epoch 3/15\n",
      "63/63 [==============================] - 4s 67ms/step - loss: 0.4849 - accuracy: 0.7675 - val_loss: 0.4341 - val_accuracy: 0.7900\n",
      "Epoch 4/15\n",
      "63/63 [==============================] - 4s 65ms/step - loss: 0.3714 - accuracy: 0.8430 - val_loss: 0.3446 - val_accuracy: 0.8650\n",
      "Epoch 5/15\n",
      "63/63 [==============================] - 4s 64ms/step - loss: 0.3094 - accuracy: 0.8685 - val_loss: 0.3111 - val_accuracy: 0.8850\n",
      "Epoch 6/15\n",
      "63/63 [==============================] - 4s 64ms/step - loss: 0.2661 - accuracy: 0.8925 - val_loss: 0.3224 - val_accuracy: 0.8700\n",
      "Epoch 7/15\n",
      "63/63 [==============================] - 4s 64ms/step - loss: 0.2423 - accuracy: 0.9005 - val_loss: 0.3493 - val_accuracy: 0.8600\n",
      "Epoch 8/15\n",
      "63/63 [==============================] - 4s 62ms/step - loss: 0.2081 - accuracy: 0.9150 - val_loss: 0.3310 - val_accuracy: 0.8700\n",
      "Epoch 9/15\n",
      "63/63 [==============================] - 4s 65ms/step - loss: 0.1847 - accuracy: 0.9280 - val_loss: 0.3219 - val_accuracy: 0.8650\n",
      "Epoch 10/15\n",
      "63/63 [==============================] - 4s 64ms/step - loss: 0.1642 - accuracy: 0.9315 - val_loss: 0.3436 - val_accuracy: 0.8550\n",
      "Epoch 11/15\n",
      "63/63 [==============================] - 4s 67ms/step - loss: 0.1434 - accuracy: 0.9425 - val_loss: 0.3300 - val_accuracy: 0.8700\n",
      "Epoch 12/15\n",
      "63/63 [==============================] - 4s 67ms/step - loss: 0.1123 - accuracy: 0.9595 - val_loss: 0.3873 - val_accuracy: 0.8650\n",
      "Epoch 13/15\n",
      "63/63 [==============================] - 4s 68ms/step - loss: 0.0782 - accuracy: 0.9725 - val_loss: 0.4379 - val_accuracy: 0.8450\n",
      "Epoch 14/15\n",
      "63/63 [==============================] - 4s 68ms/step - loss: 0.0668 - accuracy: 0.9745 - val_loss: 0.4513 - val_accuracy: 0.8750\n",
      "Epoch 15/15\n",
      "63/63 [==============================] - 4s 65ms/step - loss: 0.0497 - accuracy: 0.9840 - val_loss: 0.5076 - val_accuracy: 0.8500\n"
     ]
    }
   ],
   "source": [
    "smile_hist = smile_model.fit(train_images, train_smile_labels, validation_data=(test_images, test_smile_labels), epochs=15, verbose=1)"
   ]
  },
  {
   "cell_type": "code",
   "execution_count": 37,
   "id": "d191fe91",
   "metadata": {},
   "outputs": [
    {
     "data": {
      "image/png": "[encoded data removed]",
      "text/plain": [
       "<Figure size 432x288 with 1 Axes>"
      ]
     },
     "metadata": {
      "needs_background": "light"
     },
     "output_type": "display_data"
    }
   ],
   "source": [
    "plt.plot(gender_hist.history['accuracy'], label = 'gender accuracy')\n",
    "plt.plot(gender_hist.history['loss'], label = 'gender loss')\n",
    "plt.plot(gender_hist.history['val_accuracy'], label = 'gender validation accuracy')\n",
    "plt.plot(gender_hist.history['val_loss'], label = 'gender validation loss')\n",
    "\n",
    "plt.plot(smile_hist.history['accuracy'], label = 'smile accuracy')\n",
    "plt.plot(smile_hist.history['loss'], label = 'smile loss')\n",
    "plt.plot(smile_hist.history['val_accuracy'], label = 'smile validation accuracy')\n",
    "plt.plot(smile_hist.history['val_loss'], label = 'smile validation loss')\n",
    "\n",
    "plt.legend()\n",
    "plt.show()"
   ]
  },
  {
   "cell_type": "markdown",
   "id": "a527138e",
   "metadata": {},
   "source": [
    "### Model Test"
   ]
  },
  {
   "cell_type": "code",
   "execution_count": 38,
   "id": "804f9b52",
   "metadata": {},
   "outputs": [
    {
     "data": {
      "text/plain": [
       "<matplotlib.image.AxesImage at 0x7fb576770450>"
      ]
     },
     "execution_count": 38,
     "metadata": {},
     "output_type": "execute_result"
    },
    {
     "data": {
      "image/png": "[encoded data removed]",
      "text/plain": [
       "<Figure size 432x288 with 1 Axes>"
      ]
     },
     "metadata": {
      "needs_background": "light"
     },
     "output_type": "display_data"
    }
   ],
   "source": [
    "plt.imshow(test_images[1])"
   ]
  },
  {
   "cell_type": "code",
   "execution_count": 39,
   "id": "2aec2a8c",
   "metadata": {},
   "outputs": [],
   "source": [
    "gender_res = gender_model.predict(test_images[1:2])"
   ]
  },
  {
   "cell_type": "code",
   "execution_count": 40,
   "id": "adb2f654",
   "metadata": {},
   "outputs": [],
   "source": [
    "smile_res = smile_model.predict(test_images[1:2])"
   ]
  },
  {
   "cell_type": "code",
   "execution_count": 41,
   "id": "485c1291",
   "metadata": {},
   "outputs": [
    {
     "name": "stdout",
     "output_type": "stream",
     "text": [
      "[[9.9999475e-01 5.2340633e-06]]\n",
      "[[8.9374544e-07 9.9999917e-01]]\n"
     ]
    }
   ],
   "source": [
    "print(gender_res) # (0,1): male\n",
    "print(smile_res) # (0,1):smiling"
   ]
  },
  {
   "cell_type": "code",
   "execution_count": 42,
   "id": "15e9c351",
   "metadata": {},
   "outputs": [
    {
     "data": {
      "image/png": "[encoded data removed]",
      "text/plain": [
       "<Figure size 432x288 with 1 Axes>"
      ]
     },
     "metadata": {
      "needs_background": "light"
     },
     "output_type": "display_data"
    }
   ],
   "source": [
    "plt.bar(np.array(range(2))-0.25, gender_res[0], width=0.5, label=\"predict\")\n",
    "plt.bar(np.array(range(2))+0.25, test_male_labels[1], width=0.5, label=\"actual\")\n",
    "plt.xlabel(\"Gender\")\n",
    "plt.xticks(ticks=[0,1], labels=[\"Female\", \"Male\"])\n",
    "plt.ylabel(\"Percentage\")\n",
    "plt.legend()\n",
    "plt.show()"
   ]
  },
  {
   "cell_type": "code",
   "execution_count": 43,
   "id": "5585443d",
   "metadata": {},
   "outputs": [
    {
     "data": {
      "image/png": "[encoded data removed]",
      "text/plain": [
       "<Figure size 432x288 with 1 Axes>"
      ]
     },
     "metadata": {
      "needs_background": "light"
     },
     "output_type": "display_data"
    }
   ],
   "source": [
    "plt.bar(np.array(range(2))-0.25, smile_res[0], width=0.5, label=\"predict\")\n",
    "plt.bar(np.array(range(2))+0.25, test_smile_labels[1], width=0.5, label=\"actual\")\n",
    "plt.xlabel(\"Smile\")\n",
    "plt.xticks(ticks=[0,1], labels=[\"Not Smile\", \"Smile\"])\n",
    "plt.ylabel(\"Percentage\")\n",
    "plt.legend()\n",
    "plt.show()"
   ]
  },
  {
   "cell_type": "markdown",
   "id": "8f694cdc",
   "metadata": {},
   "source": [
    "##### 2. Combine the Conv2D and MaxPooling part"
   ]
  },
  {
   "cell_type": "code",
   "execution_count": 44,
   "id": "aa83b6fd",
   "metadata": {},
   "outputs": [],
   "source": [
    "from tensorflow.keras.models import Model\n",
    "from tensorflow.keras.layers import Conv2D, MaxPool2D, Input, Flatten, Dense\n",
    "\n",
    "def multi_model():\n",
    "    inputs = Input((72, 59, 3))\n",
    "\n",
    "    x = Conv2D(32, 3, activation='relu')(inputs)\n",
    "    x = MaxPool2D(2)(x)\n",
    "    x = Conv2D(64, 3, activation='relu')(x)\n",
    "    x = MaxPool2D(2)(x)\n",
    "    x = Conv2D(64, 3, activation='relu')(x)\n",
    "    x = MaxPool2D(2)(x)\n",
    "\n",
    "    x = Flatten()(x)\n",
    "    x = Dense(64, activation='relu')(x)\n",
    "\n",
    "    gender_outputs = Dense(2, activation='softmax')(x)\n",
    "    smile_outputs = Dense(2, activation='softmax')(x)\n",
    "\n",
    "    model = Model(inputs, [gender_outputs, smile_outputs])\n",
    "    return model"
   ]
  },
  {
   "cell_type": "code",
   "execution_count": 45,
   "id": "ceea5ea6",
   "metadata": {},
   "outputs": [],
   "source": [
    "mode = multi_model()"
   ]
  },
  {
   "cell_type": "code",
   "execution_count": 46,
   "id": "a276a225",
   "metadata": {},
   "outputs": [
    {
     "name": "stdout",
     "output_type": "stream",
     "text": [
      "Model: \"model_2\"\n",
      "__________________________________________________________________________________________________\n",
      "Layer (type)                    Output Shape         Param #     Connected to                     \n",
      "==================================================================================================\n",
      "input_3 (InputLayer)            [(None, 72, 59, 3)]  0                                            \n",
      "__________________________________________________________________________________________________\n",
      "conv2d_6 (Conv2D)               (None, 70, 57, 32)   896         input_3[0][0]                    \n",
      "__________________________________________________________________________________________________\n",
      "max_pooling2d_6 (MaxPooling2D)  (None, 35, 28, 32)   0           conv2d_6[0][0]                   \n",
      "__________________________________________________________________________________________________\n",
      "conv2d_7 (Conv2D)               (None, 33, 26, 64)   18496       max_pooling2d_6[0][0]            \n",
      "__________________________________________________________________________________________________\n",
      "max_pooling2d_7 (MaxPooling2D)  (None, 16, 13, 64)   0           conv2d_7[0][0]                   \n",
      "__________________________________________________________________________________________________\n",
      "conv2d_8 (Conv2D)               (None, 14, 11, 64)   36928       max_pooling2d_7[0][0]            \n",
      "__________________________________________________________________________________________________\n",
      "max_pooling2d_8 (MaxPooling2D)  (None, 7, 5, 64)     0           conv2d_8[0][0]                   \n",
      "__________________________________________________________________________________________________\n",
      "flatten_2 (Flatten)             (None, 2240)         0           max_pooling2d_8[0][0]            \n",
      "__________________________________________________________________________________________________\n",
      "dense_4 (Dense)                 (None, 64)           143424      flatten_2[0][0]                  \n",
      "__________________________________________________________________________________________________\n",
      "dense_5 (Dense)                 (None, 2)            130         dense_4[0][0]                    \n",
      "__________________________________________________________________________________________________\n",
      "dense_6 (Dense)                 (None, 2)            130         dense_4[0][0]                    \n",
      "==================================================================================================\n",
      "Total params: 200,004\n",
      "Trainable params: 200,004\n",
      "Non-trainable params: 0\n",
      "__________________________________________________________________________________________________\n"
     ]
    }
   ],
   "source": [
    "mode.summary()"
   ]
  },
  {
   "cell_type": "code",
   "execution_count": 47,
   "id": "20836845",
   "metadata": {},
   "outputs": [],
   "source": [
    "mode.compile(loss='categorical_crossentropy', optimizer='adam', metrics='accuracy')"
   ]
  },
  {
   "cell_type": "code",
   "execution_count": 48,
   "id": "a1febdad",
   "metadata": {},
   "outputs": [
    {
     "name": "stdout",
     "output_type": "stream",
     "text": [
      "Epoch 1/15\n",
      "63/63 [==============================] - 5s 70ms/step - loss: 1.2779 - dense_5_loss: 0.6014 - dense_6_loss: 0.6764 - dense_5_accuracy: 0.6735 - dense_6_accuracy: 0.5615 - val_loss: 1.1205 - val_dense_5_loss: 0.4920 - val_dense_6_loss: 0.6285 - val_dense_5_accuracy: 0.7750 - val_dense_6_accuracy: 0.6750\n",
      "Epoch 2/15\n",
      "63/63 [==============================] - 4s 70ms/step - loss: 1.0903 - dense_5_loss: 0.4733 - dense_6_loss: 0.6170 - dense_5_accuracy: 0.7795 - dense_6_accuracy: 0.6615 - val_loss: 1.0071 - val_dense_5_loss: 0.3816 - val_dense_6_loss: 0.6255 - val_dense_5_accuracy: 0.8500 - val_dense_6_accuracy: 0.6300\n",
      "Epoch 3/15\n",
      "63/63 [==============================] - 4s 67ms/step - loss: 0.8532 - dense_5_loss: 0.3542 - dense_6_loss: 0.4990 - dense_5_accuracy: 0.8510 - dense_6_accuracy: 0.7590 - val_loss: 0.7236 - val_dense_5_loss: 0.2887 - val_dense_6_loss: 0.4348 - val_dense_5_accuracy: 0.8750 - val_dense_6_accuracy: 0.8050\n",
      "Epoch 4/15\n",
      "63/63 [==============================] - 4s 66ms/step - loss: 0.6281 - dense_5_loss: 0.2537 - dense_6_loss: 0.3744 - dense_5_accuracy: 0.9030 - dense_6_accuracy: 0.8370 - val_loss: 0.6148 - val_dense_5_loss: 0.2274 - val_dense_6_loss: 0.3874 - val_dense_5_accuracy: 0.9250 - val_dense_6_accuracy: 0.8400\n",
      "Epoch 5/15\n",
      "63/63 [==============================] - 4s 66ms/step - loss: 0.5018 - dense_5_loss: 0.1905 - dense_6_loss: 0.3113 - dense_5_accuracy: 0.9280 - dense_6_accuracy: 0.8660 - val_loss: 0.5115 - val_dense_5_loss: 0.1628 - val_dense_6_loss: 0.3487 - val_dense_5_accuracy: 0.9350 - val_dense_6_accuracy: 0.8300\n",
      "Epoch 6/15\n",
      "63/63 [==============================] - 4s 66ms/step - loss: 0.4308 - dense_5_loss: 0.1715 - dense_6_loss: 0.2593 - dense_5_accuracy: 0.9380 - dense_6_accuracy: 0.8900 - val_loss: 0.4729 - val_dense_5_loss: 0.1446 - val_dense_6_loss: 0.3283 - val_dense_5_accuracy: 0.9450 - val_dense_6_accuracy: 0.8700\n",
      "Epoch 7/15\n",
      "63/63 [==============================] - 4s 66ms/step - loss: 0.3508 - dense_5_loss: 0.1225 - dense_6_loss: 0.2283 - dense_5_accuracy: 0.9540 - dense_6_accuracy: 0.8985 - val_loss: 0.5028 - val_dense_5_loss: 0.1598 - val_dense_6_loss: 0.3430 - val_dense_5_accuracy: 0.9350 - val_dense_6_accuracy: 0.8500\n",
      "Epoch 8/15\n",
      "63/63 [==============================] - 4s 67ms/step - loss: 0.2982 - dense_5_loss: 0.0987 - dense_6_loss: 0.1995 - dense_5_accuracy: 0.9640 - dense_6_accuracy: 0.9150 - val_loss: 0.4947 - val_dense_5_loss: 0.1495 - val_dense_6_loss: 0.3451 - val_dense_5_accuracy: 0.9400 - val_dense_6_accuracy: 0.8550\n",
      "Epoch 9/15\n",
      "63/63 [==============================] - 4s 67ms/step - loss: 0.2436 - dense_5_loss: 0.0723 - dense_6_loss: 0.1713 - dense_5_accuracy: 0.9790 - dense_6_accuracy: 0.9300 - val_loss: 0.4936 - val_dense_5_loss: 0.1549 - val_dense_6_loss: 0.3387 - val_dense_5_accuracy: 0.9300 - val_dense_6_accuracy: 0.8450\n",
      "Epoch 10/15\n",
      "63/63 [==============================] - 5s 73ms/step - loss: 0.2148 - dense_5_loss: 0.0586 - dense_6_loss: 0.1562 - dense_5_accuracy: 0.9800 - dense_6_accuracy: 0.9405 - val_loss: 0.5244 - val_dense_5_loss: 0.1635 - val_dense_6_loss: 0.3609 - val_dense_5_accuracy: 0.9350 - val_dense_6_accuracy: 0.8750\n",
      "Epoch 11/15\n",
      "63/63 [==============================] - 4s 68ms/step - loss: 0.1957 - dense_5_loss: 0.0607 - dense_6_loss: 0.1350 - dense_5_accuracy: 0.9800 - dense_6_accuracy: 0.9445 - val_loss: 0.5533 - val_dense_5_loss: 0.1738 - val_dense_6_loss: 0.3794 - val_dense_5_accuracy: 0.9250 - val_dense_6_accuracy: 0.8650\n",
      "Epoch 12/15\n",
      "63/63 [==============================] - 4s 68ms/step - loss: 0.1557 - dense_5_loss: 0.0333 - dense_6_loss: 0.1223 - dense_5_accuracy: 0.9905 - dense_6_accuracy: 0.9505 - val_loss: 0.6001 - val_dense_5_loss: 0.1547 - val_dense_6_loss: 0.4454 - val_dense_5_accuracy: 0.9350 - val_dense_6_accuracy: 0.8350\n",
      "Epoch 13/15\n",
      "63/63 [==============================] - 4s 68ms/step - loss: 0.1133 - dense_5_loss: 0.0257 - dense_6_loss: 0.0875 - dense_5_accuracy: 0.9940 - dense_6_accuracy: 0.9705 - val_loss: 0.6867 - val_dense_5_loss: 0.1386 - val_dense_6_loss: 0.5481 - val_dense_5_accuracy: 0.9350 - val_dense_6_accuracy: 0.8700\n",
      "Epoch 14/15\n",
      "63/63 [==============================] - 4s 69ms/step - loss: 0.0841 - dense_5_loss: 0.0175 - dense_6_loss: 0.0666 - dense_5_accuracy: 0.9955 - dense_6_accuracy: 0.9785 - val_loss: 0.5792 - val_dense_5_loss: 0.1663 - val_dense_6_loss: 0.4130 - val_dense_5_accuracy: 0.9450 - val_dense_6_accuracy: 0.8700\n",
      "Epoch 15/15\n",
      "63/63 [==============================] - 4s 66ms/step - loss: 0.0689 - dense_5_loss: 0.0132 - dense_6_loss: 0.0556 - dense_5_accuracy: 0.9965 - dense_6_accuracy: 0.9810 - val_loss: 0.5662 - val_dense_5_loss: 0.1272 - val_dense_6_loss: 0.4390 - val_dense_5_accuracy: 0.9550 - val_dense_6_accuracy: 0.8850\n"
     ]
    }
   ],
   "source": [
    "model_hist = mode.fit(train_images, [train_male_labels, train_smile_labels], validation_data=(test_images, [test_male_labels, test_smile_labels]), epochs=15, verbose=1)"
   ]
  },
  {
   "cell_type": "markdown",
   "id": "fe759093",
   "metadata": {},
   "source": [
    "- dense_5_accuracy: 0.9965, dense_6_accuracy: 0.9810\n",
    "- val_dense_5_accuracy: 0.9550, val_dense_6_accuracy: 0.8850"
   ]
  },
  {
   "cell_type": "code",
   "execution_count": 51,
   "id": "1217ca43",
   "metadata": {},
   "outputs": [],
   "source": [
    "res = mode.predict(test_images[:1])"
   ]
  },
  {
   "cell_type": "code",
   "execution_count": 62,
   "id": "9d62c763",
   "metadata": {},
   "outputs": [
    {
     "data": {
      "image/png": "[encoded data removed]",
      "text/plain": [
       "<Figure size 432x288 with 1 Axes>"
      ]
     },
     "metadata": {
      "needs_background": "light"
     },
     "output_type": "display_data"
    }
   ],
   "source": [
    "plt.bar(np.array(range(2))-0.25, res[0][0], width=0.5, label=\"predict\")\n",
    "plt.bar(np.array(range(2))+0.25, test_male_labels[0], width=0.5, label=\"actual\")\n",
    "plt.legend()\n",
    "plt.xticks(ticks=[0,1], labels=['Female', 'Male'])\n",
    "plt.show()"
   ]
  },
  {
   "cell_type": "code",
   "execution_count": 64,
   "id": "26219406",
   "metadata": {},
   "outputs": [
    {
     "data": {
      "image/png": "[encoded data removed]",
      "text/plain": [
       "<Figure size 432x288 with 1 Axes>"
      ]
     },
     "metadata": {
      "needs_background": "light"
     },
     "output_type": "display_data"
    }
   ],
   "source": [
    "plt.bar(np.array(range(2))-0.25, res[1][0], width=0.5, label=\"predict\")\n",
    "plt.bar(np.array(range(2))+0.25, test_smile_labels[0], width=0.5, label=\"actual\")\n",
    "plt.legend()\n",
    "plt.xticks(ticks=[0,1], labels=['Not smile', 'Smile'])\n",
    "plt.show()"
   ]
  },
  {
   "cell_type": "code",
   "execution_count": 50,
   "id": "0c8cde26",
   "metadata": {},
   "outputs": [
    {
     "data": {
      "text/plain": [
       "<matplotlib.image.AxesImage at 0x7fb5eff93dd0>"
      ]
     },
     "execution_count": 50,
     "metadata": {},
     "output_type": "execute_result"
    },
    {
     "data": {
      "image/png": "[encoded data removed]",
      "text/plain": [
       "<Figure size 432x288 with 1 Axes>"
      ]
     },
     "metadata": {
      "needs_background": "light"
     },
     "output_type": "display_data"
    }
   ],
   "source": [
    "plt.imshow(test_images[0])"
   ]
  },
  {
   "cell_type": "markdown",
   "id": "a1b3d2ed",
   "metadata": {},
   "source": [
    "##### 2-1. Separate Model"
   ]
  },
  {
   "cell_type": "code",
   "execution_count": 65,
   "id": "6142880e",
   "metadata": {},
   "outputs": [
    {
     "name": "stdout",
     "output_type": "stream",
     "text": [
      "Model: \"model_2\"\n",
      "__________________________________________________________________________________________________\n",
      "Layer (type)                    Output Shape         Param #     Connected to                     \n",
      "==================================================================================================\n",
      "input_3 (InputLayer)            [(None, 72, 59, 3)]  0                                            \n",
      "__________________________________________________________________________________________________\n",
      "conv2d_6 (Conv2D)               (None, 70, 57, 32)   896         input_3[0][0]                    \n",
      "__________________________________________________________________________________________________\n",
      "max_pooling2d_6 (MaxPooling2D)  (None, 35, 28, 32)   0           conv2d_6[0][0]                   \n",
      "__________________________________________________________________________________________________\n",
      "conv2d_7 (Conv2D)               (None, 33, 26, 64)   18496       max_pooling2d_6[0][0]            \n",
      "__________________________________________________________________________________________________\n",
      "max_pooling2d_7 (MaxPooling2D)  (None, 16, 13, 64)   0           conv2d_7[0][0]                   \n",
      "__________________________________________________________________________________________________\n",
      "conv2d_8 (Conv2D)               (None, 14, 11, 64)   36928       max_pooling2d_7[0][0]            \n",
      "__________________________________________________________________________________________________\n",
      "max_pooling2d_8 (MaxPooling2D)  (None, 7, 5, 64)     0           conv2d_8[0][0]                   \n",
      "__________________________________________________________________________________________________\n",
      "flatten_2 (Flatten)             (None, 2240)         0           max_pooling2d_8[0][0]            \n",
      "__________________________________________________________________________________________________\n",
      "dense_4 (Dense)                 (None, 64)           143424      flatten_2[0][0]                  \n",
      "__________________________________________________________________________________________________\n",
      "dense_5 (Dense)                 (None, 2)            130         dense_4[0][0]                    \n",
      "__________________________________________________________________________________________________\n",
      "dense_6 (Dense)                 (None, 2)            130         dense_4[0][0]                    \n",
      "==================================================================================================\n",
      "Total params: 200,004\n",
      "Trainable params: 200,004\n",
      "Non-trainable params: 0\n",
      "__________________________________________________________________________________________________\n"
     ]
    }
   ],
   "source": [
    "mode.summary()"
   ]
  },
  {
   "cell_type": "code",
   "execution_count": 68,
   "id": "64e84f8d",
   "metadata": {},
   "outputs": [],
   "source": [
    "gender_model2 = Model(inputs=mode.inputs, outputs=mode.get_layer('dense_5').output)\n",
    "smile_model2= Model(inputs=mode.inputs, outputs=mode.get_layer('dense_6').output)"
   ]
  },
  {
   "cell_type": "code",
   "execution_count": 69,
   "id": "9dd31653",
   "metadata": {},
   "outputs": [
    {
     "name": "stdout",
     "output_type": "stream",
     "text": [
      "Model: \"model_4\"\n",
      "_________________________________________________________________\n",
      "Layer (type)                 Output Shape              Param #   \n",
      "=================================================================\n",
      "input_3 (InputLayer)         [(None, 72, 59, 3)]       0         \n",
      "_________________________________________________________________\n",
      "conv2d_6 (Conv2D)            (None, 70, 57, 32)        896       \n",
      "_________________________________________________________________\n",
      "max_pooling2d_6 (MaxPooling2 (None, 35, 28, 32)        0         \n",
      "_________________________________________________________________\n",
      "conv2d_7 (Conv2D)            (None, 33, 26, 64)        18496     \n",
      "_________________________________________________________________\n",
      "max_pooling2d_7 (MaxPooling2 (None, 16, 13, 64)        0         \n",
      "_________________________________________________________________\n",
      "conv2d_8 (Conv2D)            (None, 14, 11, 64)        36928     \n",
      "_________________________________________________________________\n",
      "max_pooling2d_8 (MaxPooling2 (None, 7, 5, 64)          0         \n",
      "_________________________________________________________________\n",
      "flatten_2 (Flatten)          (None, 2240)              0         \n",
      "_________________________________________________________________\n",
      "dense_4 (Dense)              (None, 64)                143424    \n",
      "_________________________________________________________________\n",
      "dense_5 (Dense)              (None, 2)                 130       \n",
      "=================================================================\n",
      "Total params: 199,874\n",
      "Trainable params: 199,874\n",
      "Non-trainable params: 0\n",
      "_________________________________________________________________\n"
     ]
    }
   ],
   "source": [
    "gender_model2.summary()"
   ]
  },
  {
   "cell_type": "code",
   "execution_count": 76,
   "id": "ce2ccaaf",
   "metadata": {},
   "outputs": [
    {
     "name": "stdout",
     "output_type": "stream",
     "text": [
      "[[1.000000e+00 5.371226e-09]]\n"
     ]
    }
   ],
   "source": [
    "x = gender_model2.predict(test_images[:1])\n",
    "print(x)"
   ]
  },
  {
   "cell_type": "code",
   "execution_count": 77,
   "id": "e2a8aab8",
   "metadata": {},
   "outputs": [
    {
     "data": {
      "text/plain": [
       "array([1, 0], dtype=int8)"
      ]
     },
     "execution_count": 77,
     "metadata": {},
     "output_type": "execute_result"
    }
   ],
   "source": [
    "test_male_labels[0]"
   ]
  },
  {
   "cell_type": "code",
   "execution_count": 78,
   "id": "b164bdc6",
   "metadata": {},
   "outputs": [
    {
     "name": "stdout",
     "output_type": "stream",
     "text": [
      "WARNING:tensorflow:5 out of the last 7 calls to <function Model.make_predict_function.<locals>.predict_function at 0x7fb5ea47d290> triggered tf.function retracing. Tracing is expensive and the excessive number of tracings could be due to (1) creating @tf.function repeatedly in a loop, (2) passing tensors with different shapes, (3) passing Python objects instead of tensors. For (1), please define your @tf.function outside of the loop. For (2), @tf.function has experimental_relax_shapes=True option that relaxes argument shapes that can avoid unnecessary retracing. For (3), please refer to https://www.tensorflow.org/guide/function#controlling_retracing and https://www.tensorflow.org/api_docs/python/tf/function for  more details.\n"
     ]
    },
    {
     "name": "stderr",
     "output_type": "stream",
     "text": [
      "WARNING:tensorflow:5 out of the last 7 calls to <function Model.make_predict_function.<locals>.predict_function at 0x7fb5ea47d290> triggered tf.function retracing. Tracing is expensive and the excessive number of tracings could be due to (1) creating @tf.function repeatedly in a loop, (2) passing tensors with different shapes, (3) passing Python objects instead of tensors. For (1), please define your @tf.function outside of the loop. For (2), @tf.function has experimental_relax_shapes=True option that relaxes argument shapes that can avoid unnecessary retracing. For (3), please refer to https://www.tensorflow.org/guide/function#controlling_retracing and https://www.tensorflow.org/api_docs/python/tf/function for  more details.\n"
     ]
    },
    {
     "name": "stdout",
     "output_type": "stream",
     "text": [
      "[[9.9999905e-01 9.5724704e-07]]\n"
     ]
    }
   ],
   "source": [
    "x = smile_model2.predict(test_images[:1])\n",
    "print(x)"
   ]
  },
  {
   "cell_type": "code",
   "execution_count": 79,
   "id": "7d1c88c2",
   "metadata": {},
   "outputs": [
    {
     "data": {
      "text/plain": [
       "array([1, 0], dtype=int8)"
      ]
     },
     "execution_count": 79,
     "metadata": {},
     "output_type": "execute_result"
    }
   ],
   "source": [
    "test_smile_labels[0]"
   ]
  },
  {
   "cell_type": "markdown",
   "id": "91878c1b",
   "metadata": {},
   "source": [
    "### Save/Load Model"
   ]
  },
  {
   "cell_type": "code",
   "execution_count": 80,
   "id": "04a1000b",
   "metadata": {},
   "outputs": [
    {
     "name": "stdout",
     "output_type": "stream",
     "text": [
      "INFO:tensorflow:Assets written to: ./02.model/assets\n"
     ]
    },
    {
     "name": "stderr",
     "output_type": "stream",
     "text": [
      "INFO:tensorflow:Assets written to: ./02.model/assets\n"
     ]
    }
   ],
   "source": [
    "mode.save(\"./02.model\")"
   ]
  },
  {
   "cell_type": "code",
   "execution_count": 81,
   "id": "4c0290b7",
   "metadata": {},
   "outputs": [
    {
     "name": "stdout",
     "output_type": "stream",
     "text": [
      "01.MNIST(RNN).ipynb    02.CelebaDataset.ipynb\r\n",
      "\u001b[1m\u001b[36m01.models\u001b[m\u001b[m              \u001b[1m\u001b[36m02.model\u001b[m\u001b[m\r\n"
     ]
    }
   ],
   "source": [
    "!ls ."
   ]
  },
  {
   "cell_type": "code",
   "execution_count": 82,
   "id": "2e22a5cc",
   "metadata": {},
   "outputs": [],
   "source": [
    "test = tf.keras.models.load_model('./02.model')"
   ]
  },
  {
   "cell_type": "code",
   "execution_count": 83,
   "id": "455acc68",
   "metadata": {},
   "outputs": [
    {
     "name": "stdout",
     "output_type": "stream",
     "text": [
      "Model: \"model_2\"\n",
      "__________________________________________________________________________________________________\n",
      "Layer (type)                    Output Shape         Param #     Connected to                     \n",
      "==================================================================================================\n",
      "input_3 (InputLayer)            [(None, 72, 59, 3)]  0                                            \n",
      "__________________________________________________________________________________________________\n",
      "conv2d_6 (Conv2D)               (None, 70, 57, 32)   896         input_3[0][0]                    \n",
      "__________________________________________________________________________________________________\n",
      "max_pooling2d_6 (MaxPooling2D)  (None, 35, 28, 32)   0           conv2d_6[0][0]                   \n",
      "__________________________________________________________________________________________________\n",
      "conv2d_7 (Conv2D)               (None, 33, 26, 64)   18496       max_pooling2d_6[0][0]            \n",
      "__________________________________________________________________________________________________\n",
      "max_pooling2d_7 (MaxPooling2D)  (None, 16, 13, 64)   0           conv2d_7[0][0]                   \n",
      "__________________________________________________________________________________________________\n",
      "conv2d_8 (Conv2D)               (None, 14, 11, 64)   36928       max_pooling2d_7[0][0]            \n",
      "__________________________________________________________________________________________________\n",
      "max_pooling2d_8 (MaxPooling2D)  (None, 7, 5, 64)     0           conv2d_8[0][0]                   \n",
      "__________________________________________________________________________________________________\n",
      "flatten_2 (Flatten)             (None, 2240)         0           max_pooling2d_8[0][0]            \n",
      "__________________________________________________________________________________________________\n",
      "dense_4 (Dense)                 (None, 64)           143424      flatten_2[0][0]                  \n",
      "__________________________________________________________________________________________________\n",
      "dense_5 (Dense)                 (None, 2)            130         dense_4[0][0]                    \n",
      "__________________________________________________________________________________________________\n",
      "dense_6 (Dense)                 (None, 2)            130         dense_4[0][0]                    \n",
      "==================================================================================================\n",
      "Total params: 200,004\n",
      "Trainable params: 200,004\n",
      "Non-trainable params: 0\n",
      "__________________________________________________________________________________________________\n"
     ]
    }
   ],
   "source": [
    "test.summary()"
   ]
  },
  {
   "cell_type": "code",
   "execution_count": null,
   "id": "4a0d567d",
   "metadata": {},
   "outputs": [],
   "source": []
  }
 ],
 "metadata": {
  "kernelspec": {
   "display_name": "Python 3",
   "language": "python",
   "name": "python3"
  },
  "language_info": {
   "codemirror_mode": {
    "name": "ipython",
    "version": 3
   },
   "file_extension": ".py",
   "mimetype": "text/x-python",
   "name": "python",
   "nbconvert_exporter": "python",
   "pygments_lexer": "ipython3",
   "version": "3.7.9"
  }
 },
 "nbformat": 4,
 "nbformat_minor": 5
}
